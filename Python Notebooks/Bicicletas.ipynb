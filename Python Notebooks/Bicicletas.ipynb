{
 "cells": [
  {
   "cell_type": "markdown",
   "metadata": {},
   "source": [
    "# Limpieza y exploración\n",
    "\n",
    "# CREDENCIALES DE PROYECTO, IMPORTACION DE LIBRERIAS INICIALES"
   ]
  },
  {
   "cell_type": "code",
   "execution_count": 1,
   "metadata": {},
   "outputs": [
    {
     "name": "stdout",
     "output_type": "stream",
     "text": [
      "Waiting for a Spark session to start...\n",
      "Spark Initialization Done! ApplicationId = app-20210411232431-0000\n",
      "KERNEL_ID = cb919409-ba87-4fbf-8605-bf6e9245f2ad\n"
     ]
    },
    {
     "data": {
      "text/plain": [
       "[Row(station_id='BT-01', name='3rd Ave & Broad St', lat=47.618418, long=-122.350964, install_date='10/13/2014', install_dockcount=18, modification_date=None, current_dockcount=18, decommission_date=None)]"
      ]
     },
     "execution_count": 1,
     "metadata": {},
     "output_type": "execute_result"
    }
   ],
   "source": [
    "#Importación de station.csv file\n",
    "#Importación de functions pyspark SQL\n",
    "from pyspark.sql.functions import*\n",
    "import ibmos2spark, os\n",
    "\n",
    "if os.environ.get('RUNTIME_ENV_LOCATION_TYPE') == 'external':\n",
    "    endpoint_5fc9833f13ed4170a3d793ba6b80e11a = 'https://s3-api.us-geo.objectstorage.softlayer.net'\n",
    "else:\n",
    "    endpoint_5fc9833f13ed4170a3d793ba6b80e11a = 'https://s3-api.us-geo.objectstorage.service.networklayer.com'\n",
    "\n",
    "credentials = {\n",
    "    'endpoint': endpoint_5fc9833f13ed4170a3d793ba6b80e11a,\n",
    "    'service_id': 'iam-ServiceId-a9f1577d-5270-4858-8b14-345ee4bfb744',\n",
    "    'iam_service_endpoint': 'https://iam.cloud.ibm.com/oidc/token',\n",
    "    'api_key': 'SZLYLSD_wZpkWnqiF6AzCgVrL9lm-JCubzDrqmhf30Za'\n",
    "}\n",
    "\n",
    "configuration_name = 'os_5fc9833f13ed4170a3d793ba6b80e11a_configs'\n",
    "cos = ibmos2spark.CloudObjectStorage(sc, credentials, configuration_name, 'bluemix_cos')\n",
    "\n",
    "from pyspark.sql import SparkSession\n",
    "spark = SparkSession.builder.getOrCreate()\n",
    "#Definir nombre de dataframe con convencion df_ al inicio\n",
    "df_stations_raw = spark.read\\\n",
    "  .format('org.apache.spark.sql.execution.datasources.csv.CSVFileFormat')\\\n",
    "  .option('InferSchema','true')\\\n",
    "  .option('header', 'true')\\\n",
    "  .load(cos.url('station.csv', 'tallerdadatasciencecamiloferreira-donotdelete-pr-fz0ndvhao4eorr'))\n",
    "#Se muestra una sola fila de ejemplo para ver que cargo la data\n",
    "df_stations_raw.take(1)"
   ]
  },
  {
   "cell_type": "markdown",
   "metadata": {},
   "source": [
    "# INICIO TRABAJO STATIONS"
   ]
  },
  {
   "cell_type": "code",
   "execution_count": 2,
   "metadata": {
    "scrolled": true
   },
   "outputs": [
    {
     "name": "stdout",
     "output_type": "stream",
     "text": [
      "root\n",
      " |-- station_id: string (nullable = true)\n",
      " |-- name: string (nullable = true)\n",
      " |-- lat: double (nullable = true)\n",
      " |-- long: double (nullable = true)\n",
      " |-- install_date: string (nullable = true)\n",
      " |-- install_dockcount: integer (nullable = true)\n",
      " |-- modification_date: string (nullable = true)\n",
      " |-- current_dockcount: integer (nullable = true)\n",
      " |-- decommission_date: string (nullable = true)\n",
      "\n"
     ]
    }
   ],
   "source": [
    "#Mostrar tipo de datos del df_statiosn\n",
    "#Se identifica que las columnas de tipo date en su lugar son de tipo string: modification_date, decommission_date e install_date\n",
    "df_stations_raw.printSchema()"
   ]
  },
  {
   "cell_type": "code",
   "execution_count": 3,
   "metadata": {},
   "outputs": [
    {
     "name": "stdout",
     "output_type": "stream",
     "text": [
      "+-------+----------+--------------------+-----------------+--------------------+------------+------------------+-----------------+------------------+-----------------+\n",
      "|summary|station_id|                name|              lat|                long|install_date| install_dockcount|modification_date| current_dockcount|decommission_date|\n",
      "+-------+----------+--------------------+-----------------+--------------------+------------+------------------+-----------------+------------------+-----------------+\n",
      "|  count|        58|                  58|               58|                  58|          58|                58|               17|                58|                4|\n",
      "|   mean|      null|                null|47.62479551586206| -122.32724190862069|        null|17.586206896551722|             null|16.517241379310345|             null|\n",
      "| stddev|      null|                null| 0.01906576274897|0.014956664123887123|        null| 3.060985294637446|             null| 5.117021403705188|             null|\n",
      "|    min|     BT-01|12th Ave & E Denn...|        47.598488|          -122.35523|  10/13/2014|                12|       10/29/2015|                 0|       10/29/2015|\n",
      "|    max|     WF-04|Westlake Ave & 6t...|        47.666145|         -122.284119|   9/15/2015|                30|         8/9/2016|                26|         8/9/2016|\n",
      "+-------+----------+--------------------+-----------------+--------------------+------------+------------------+-----------------+------------------+-----------------+\n",
      "\n"
     ]
    }
   ],
   "source": [
    "#Se corrobora con el describe el resumen de los datos del df_stations, encontrando que todas las columanas tiene 58 valores \"válidos\" a excepción de dos columnas.\n",
    "#En específico modification_date y decommission date tienen valores nulos, esto se entiende que ambos sucesos pueden no necesariamente haber ocurrido en las estaciones.\n",
    "df_stations_raw.describe().show()"
   ]
  },
  {
   "cell_type": "code",
   "execution_count": 4,
   "metadata": {},
   "outputs": [
    {
     "name": "stdout",
     "output_type": "stream",
     "text": [
      "+------------+-----------------+-----------------+\n",
      "|install_date|modification_date|decommission_date|\n",
      "+------------+-----------------+-----------------+\n",
      "|  10/13/2014|             null|             null|\n",
      "|  10/13/2014|             null|             null|\n",
      "|  10/13/2014|             null|             null|\n",
      "|  10/13/2014|             null|             null|\n",
      "|  10/13/2014|             null|             null|\n",
      "|   7/27/2015|             null|             null|\n",
      "|  10/13/2014|             null|             null|\n",
      "|  10/13/2014|        11/9/2015|             null|\n",
      "|  10/13/2014|             null|             null|\n",
      "|  10/13/2014|             null|             null|\n",
      "|   5/22/2015|         8/9/2016|         8/9/2016|\n",
      "|  10/13/2014|             null|             null|\n",
      "|  10/13/2014|        2/24/2015|             null|\n",
      "|  10/13/2014|             null|             null|\n",
      "|  10/13/2014|             null|             null|\n",
      "|  10/13/2014|             null|             null|\n",
      "|  10/13/2014|             null|             null|\n",
      "|  10/13/2014|        2/24/2015|             null|\n",
      "|  10/13/2014|             null|             null|\n",
      "|  10/13/2014|             null|             null|\n",
      "|  10/13/2014|             null|             null|\n",
      "|  10/13/2014|             null|             null|\n",
      "|  10/13/2014|        3/24/2015|             null|\n",
      "|  10/13/2014|        3/27/2015|             null|\n",
      "|  10/13/2014|             null|             null|\n",
      "|  10/13/2014|             null|             null|\n",
      "|  10/13/2014|        3/18/2016|        3/18/2016|\n",
      "|  10/13/2014|             null|             null|\n",
      "|  10/13/2014|             null|             null|\n",
      "|  10/13/2014|             null|             null|\n",
      "|  10/13/2014|             null|             null|\n",
      "|  10/13/2014|        2/24/2015|             null|\n",
      "|  10/13/2014|             null|             null|\n",
      "|  10/13/2014|             null|             null|\n",
      "|  10/13/2014|             null|             null|\n",
      "|  10/13/2014|        3/13/2015|             null|\n",
      "|  10/13/2014|             null|             null|\n",
      "|  10/13/2014|        2/23/2015|             null|\n",
      "|  10/13/2014|        11/2/2015|         7/2/2016|\n",
      "|  10/13/2014|         3/4/2015|             null|\n",
      "|   6/12/2015|             null|             null|\n",
      "|   9/15/2015|             null|             null|\n",
      "|  10/13/2014|             null|             null|\n",
      "|  10/13/2014|             null|             null|\n",
      "|  10/13/2014|             null|             null|\n",
      "|  10/13/2014|             null|             null|\n",
      "|  10/13/2014|       10/29/2015|       10/29/2015|\n",
      "|  10/13/2014|        2/20/2015|             null|\n",
      "|  10/13/2014|        2/20/2015|             null|\n",
      "|  10/13/2014|        2/20/2015|             null|\n",
      "|  10/13/2014|        2/20/2015|             null|\n",
      "|  10/13/2014|             null|             null|\n",
      "|  10/13/2014|             null|             null|\n",
      "|  10/13/2014|             null|             null|\n",
      "|   3/18/2016|             null|             null|\n",
      "|    7/3/2016|             null|             null|\n",
      "|  10/29/2015|             null|             null|\n",
      "|    8/9/2016|             null|             null|\n",
      "+------------+-----------------+-----------------+\n",
      "\n"
     ]
    }
   ],
   "source": [
    "#Se visualizan los datos de las 3 columnas modification_date, decommission_date e install_date debido a su tipo de dato que actualmente es string\n",
    "#En este caso se realiza un show de exactamente el count de registros que hay en el dataframe. En caso de ser un dataframe mas grande esto no seria para nada optimo.\n",
    "#De esta manera podemos ver todos los registros pudiendo comprobar el formato que en este caso encontramos dos MM/DD/YYYY y M/DD/YYYY.\n",
    "df_stations_raw.select(\"install_date\",\"modification_date\", \"decommission_date\").show(df_stations_raw.count())"
   ]
  },
  {
   "cell_type": "code",
   "execution_count": 5,
   "metadata": {},
   "outputs": [],
   "source": [
    "#Formateo de string a date, utilizando formateo a 'm/d/yyyy' debido a que encontramos meses sin cero al inicio\n",
    "#Esto se almacena en un nuevo dataframe llamado df_stations_fixed\n",
    "df_stations_fixed = df_stations_raw.withColumn (\"install_date\", to_date (col(\"install_date\"),'M/d/yyyy'))\\\n",
    "                          .withColumn (\"modification_date\", to_date (col(\"modification_date\"),'M/d/yyyy'))\\\n",
    "                          .withColumn (\"decommission_date\", to_date (col(\"decommission_date\"),'M/d/yyyy'))"
   ]
  },
  {
   "cell_type": "markdown",
   "metadata": {},
   "source": [
    "# FINALIZACION DE TRABAJO CON GENERANDO UN DATAFRAME LLAMADO df_stations_fixed"
   ]
  },
  {
   "cell_type": "code",
   "execution_count": 6,
   "metadata": {},
   "outputs": [
    {
     "name": "stdout",
     "output_type": "stream",
     "text": [
      "root\n",
      " |-- station_id: string (nullable = true)\n",
      " |-- name: string (nullable = true)\n",
      " |-- lat: double (nullable = true)\n",
      " |-- long: double (nullable = true)\n",
      " |-- install_date: date (nullable = true)\n",
      " |-- install_dockcount: integer (nullable = true)\n",
      " |-- modification_date: date (nullable = true)\n",
      " |-- current_dockcount: integer (nullable = true)\n",
      " |-- decommission_date: date (nullable = true)\n",
      "\n"
     ]
    }
   ],
   "source": [
    "#Se hace un print schema y se eligio nombre df_stations_fixed debido a que no hay mas limpieza a hacer en este dataframe\n",
    "df_stations_fixed.printSchema()\n"
   ]
  },
  {
   "cell_type": "markdown",
   "metadata": {},
   "source": [
    "# INICIO TRABAJO CON WEATHER CSV"
   ]
  },
  {
   "cell_type": "code",
   "execution_count": 7,
   "metadata": {},
   "outputs": [
    {
     "data": {
      "text/plain": [
       "[Row(Date='10/13/2014', Max_Temperature_F=71, Mean_Temperature_F=62, Min_TemperatureF=54, Max_Dew_Point_F=55, MeanDew_Point_F=51, Min_Dewpoint_F=46, Max_Humidity=87, Mean_Humidity=68, Min_Humidity=46, Max_Sea_Level_Pressure_In=30.03, Mean_Sea_Level_Pressure_In=29.79, Min_Sea_Level_Pressure_In=29.65, Max_Visibility_Miles=10, Mean_Visibility_Miles=10, Min_Visibility_Miles=4, Max_Wind_Speed_MPH=13, Mean_Wind_Speed_MPH=4, Max_Gust_Speed_MPH='21', Precipitation_In=0.0, Events='Rain'),\n",
       " Row(Date='10/14/2014', Max_Temperature_F=63, Mean_Temperature_F=59, Min_TemperatureF=55, Max_Dew_Point_F=52, MeanDew_Point_F=51, Min_Dewpoint_F=50, Max_Humidity=88, Mean_Humidity=78, Min_Humidity=63, Max_Sea_Level_Pressure_In=29.84, Mean_Sea_Level_Pressure_In=29.75, Min_Sea_Level_Pressure_In=29.54, Max_Visibility_Miles=10, Mean_Visibility_Miles=9, Min_Visibility_Miles=3, Max_Wind_Speed_MPH=10, Mean_Wind_Speed_MPH=5, Max_Gust_Speed_MPH='17', Precipitation_In=0.11, Events='Rain')]"
      ]
     },
     "execution_count": 7,
     "metadata": {},
     "output_type": "execute_result"
    }
   ],
   "source": [
    "#Importacion weather datos\n",
    "df_weather_raw = spark.read\\\n",
    "  .format('org.apache.spark.sql.execution.datasources.csv.CSVFileFormat')\\\n",
    "  .option('InferSchema','true')\\\n",
    "  .option('header', 'true')\\\n",
    "  .load(cos.url('weather.csv', 'tallerdadatasciencecamiloferreira-donotdelete-pr-fz0ndvhao4eorr'))\n",
    "df_weather_raw.take(2)"
   ]
  },
  {
   "cell_type": "code",
   "execution_count": 8,
   "metadata": {},
   "outputs": [
    {
     "name": "stdout",
     "output_type": "stream",
     "text": [
      "root\n",
      " |-- Date: string (nullable = true)\n",
      " |-- Max_Temperature_F: integer (nullable = true)\n",
      " |-- Mean_Temperature_F: integer (nullable = true)\n",
      " |-- Min_TemperatureF: integer (nullable = true)\n",
      " |-- Max_Dew_Point_F: integer (nullable = true)\n",
      " |-- MeanDew_Point_F: integer (nullable = true)\n",
      " |-- Min_Dewpoint_F: integer (nullable = true)\n",
      " |-- Max_Humidity: integer (nullable = true)\n",
      " |-- Mean_Humidity: integer (nullable = true)\n",
      " |-- Min_Humidity: integer (nullable = true)\n",
      " |-- Max_Sea_Level_Pressure_In: double (nullable = true)\n",
      " |-- Mean_Sea_Level_Pressure_In: double (nullable = true)\n",
      " |-- Min_Sea_Level_Pressure_In: double (nullable = true)\n",
      " |-- Max_Visibility_Miles: integer (nullable = true)\n",
      " |-- Mean_Visibility_Miles: integer (nullable = true)\n",
      " |-- Min_Visibility_Miles: integer (nullable = true)\n",
      " |-- Max_Wind_Speed_MPH: integer (nullable = true)\n",
      " |-- Mean_Wind_Speed_MPH: integer (nullable = true)\n",
      " |-- Max_Gust_Speed_MPH: string (nullable = true)\n",
      " |-- Precipitation_In: double (nullable = true)\n",
      " |-- Events: string (nullable = true)\n",
      "\n"
     ]
    }
   ],
   "source": [
    "#Revision de data schema\n",
    "df_weather_raw.printSchema()"
   ]
  },
  {
   "cell_type": "code",
   "execution_count": 9,
   "metadata": {},
   "outputs": [
    {
     "name": "stdout",
     "output_type": "stream",
     "text": [
      "+-------+--------+------------------+------------------+-----------------+-----------------+-----------------+------------------+-----------------+------------------+------------------+-------------------------+--------------------------+-------------------------+--------------------+---------------------+--------------------+------------------+-------------------+------------------+-------------------+------+\n",
      "|summary|    Date| Max_Temperature_F|Mean_Temperature_F| Min_TemperatureF|  Max_Dew_Point_F|  MeanDew_Point_F|    Min_Dewpoint_F|     Max_Humidity|     Mean_Humidity|      Min_Humidity|Max_Sea_Level_Pressure_In|Mean_Sea_Level_Pressure_In|Min_Sea_Level_Pressure_In|Max_Visibility_Miles|Mean_Visibility_Miles|Min_Visibility_Miles|Max_Wind_Speed_MPH|Mean_Wind_Speed_MPH|Max_Gust_Speed_MPH|   Precipitation_In|Events|\n",
      "+-------+--------+------------------+------------------+-----------------+-----------------+-----------------+------------------+-----------------+------------------+------------------+-------------------------+--------------------------+-------------------------+--------------------+---------------------+--------------------+------------------+-------------------+------------------+-------------------+------+\n",
      "|  count|     689|               689|               688|              689|              689|              689|               689|              689|               689|               689|                      689|                       689|                      689|                 689|                  689|                 689|               689|                689|               504|                689|   328|\n",
      "|   mean|    null| 64.02757619738752|  56.5843023255814|49.45428156748911|48.57184325108853|45.02177068214804|40.873730043541364|84.54136429608128| 68.50653120464442| 49.97387518142235|       30.121741654571785|        30.034760522496352|       29.940609579100162|   9.989840348330913|    9.429608127721336|   7.245283018867925|11.085631349782293|  4.631349782293179|22.849462365591396|0.10506531204644416|  null|\n",
      "| stddev|    null|12.427842666036538| 10.40805801821377|9.451437219164811|7.501229914567871|7.914025068848347| 8.854608453402333|9.718948101814224|12.701871120263478|15.825700770390313|      0.18336688828348863|        0.1975025223794319|      0.22180268302886977|  0.2666787612158108|   1.1743602873841612|   3.281277750671428| 3.921087101271782|   2.78031986529367| 6.083258492171062|0.23564366964145267|  null|\n",
      "|    min|1/1/2015|                39|                33|               23|               10|                4|                 1|               40|                24|                15|                    29.47|                     29.31|                    29.14|                   3|                    1|                   0|                 4|                  0|                 -|                0.0|   Fog|\n",
      "|    max|9/9/2015|                98|                83|               70|               77|               59|                57|              100|                95|                87|                    30.86|                     30.81|                    30.75|                  10|                   10|                  10|                30|                 23|                52|                2.2|  Snow|\n",
      "+-------+--------+------------------+------------------+-----------------+-----------------+-----------------+------------------+-----------------+------------------+------------------+-------------------------+--------------------------+-------------------------+--------------------+---------------------+--------------------+------------------+-------------------+------------------+-------------------+------+\n",
      "\n"
     ]
    }
   ],
   "source": [
    "df_weather_raw.describe().show()"
   ]
  },
  {
   "cell_type": "code",
   "execution_count": 10,
   "metadata": {},
   "outputs": [],
   "source": [
    "#Formateo de fechas\n",
    "df_weather_fechas = df_weather_raw.withColumn (\"Date\", to_date (col(\"Date\"),'M/d/yyyy'))"
   ]
  },
  {
   "cell_type": "code",
   "execution_count": 11,
   "metadata": {},
   "outputs": [
    {
     "name": "stdout",
     "output_type": "stream",
     "text": [
      "root\n",
      " |-- Date: date (nullable = true)\n",
      " |-- Max_Temperature_F: integer (nullable = true)\n",
      " |-- Mean_Temperature_F: integer (nullable = true)\n",
      " |-- Min_TemperatureF: integer (nullable = true)\n",
      " |-- Max_Dew_Point_F: integer (nullable = true)\n",
      " |-- MeanDew_Point_F: integer (nullable = true)\n",
      " |-- Min_Dewpoint_F: integer (nullable = true)\n",
      " |-- Max_Humidity: integer (nullable = true)\n",
      " |-- Mean_Humidity: integer (nullable = true)\n",
      " |-- Min_Humidity: integer (nullable = true)\n",
      " |-- Max_Sea_Level_Pressure_In: double (nullable = true)\n",
      " |-- Mean_Sea_Level_Pressure_In: double (nullable = true)\n",
      " |-- Min_Sea_Level_Pressure_In: double (nullable = true)\n",
      " |-- Max_Visibility_Miles: integer (nullable = true)\n",
      " |-- Mean_Visibility_Miles: integer (nullable = true)\n",
      " |-- Min_Visibility_Miles: integer (nullable = true)\n",
      " |-- Max_Wind_Speed_MPH: integer (nullable = true)\n",
      " |-- Mean_Wind_Speed_MPH: integer (nullable = true)\n",
      " |-- Max_Gust_Speed_MPH: string (nullable = true)\n",
      " |-- Precipitation_In: double (nullable = true)\n",
      " |-- Events: string (nullable = true)\n",
      "\n"
     ]
    }
   ],
   "source": [
    "#Comprobacion de formateo de fechas exitoso\n",
    "df_weather_fechas.printSchema()"
   ]
  },
  {
   "cell_type": "code",
   "execution_count": 12,
   "metadata": {},
   "outputs": [
    {
     "name": "stdout",
     "output_type": "stream",
     "text": [
      "+-------------------+\n",
      "|             Events|\n",
      "+-------------------+\n",
      "|          Rain-Snow|\n",
      "|               null|\n",
      "|         Fog , Rain|\n",
      "|                Fog|\n",
      "|        Rain , Snow|\n",
      "|           Fog-Rain|\n",
      "|Rain , Thunderstorm|\n",
      "|               Rain|\n",
      "|               Snow|\n",
      "|  Rain-Thunderstorm|\n",
      "+-------------------+\n",
      "\n"
     ]
    }
   ],
   "source": [
    "#Se muestra los valores distintos de la columna Events\n",
    "df_weather_fechas.select(\"Events\").distinct().show()"
   ]
  },
  {
   "cell_type": "code",
   "execution_count": 13,
   "metadata": {},
   "outputs": [
    {
     "name": "stdout",
     "output_type": "stream",
     "text": [
      "+-------------------+\n",
      "|             Events|\n",
      "+-------------------+\n",
      "|          Rain-Snow|\n",
      "|         Fog , Rain|\n",
      "|                Fog|\n",
      "|        Rain , Snow|\n",
      "|           Fog-Rain|\n",
      "|Rain , Thunderstorm|\n",
      "|               Rain|\n",
      "|               Snow|\n",
      "|  Rain-Thunderstorm|\n",
      "|             Normal|\n",
      "+-------------------+\n",
      "\n"
     ]
    }
   ],
   "source": [
    "#Reemplazamos los nulos en columna Events por Normal. Ya se consulto que para eventos que fueran nulos y/o vacíos se sobreentendía que era un día sin inclemencia meteorologica\n",
    "df_weather_NoNAevent = df_weather_fechas.na.fill(\"Normal\", [\"Events\"])\n",
    "df_weather_NoNAevent.select(\"Events\").distinct().show()"
   ]
  },
  {
   "cell_type": "code",
   "execution_count": 14,
   "metadata": {},
   "outputs": [
    {
     "name": "stdout",
     "output_type": "stream",
     "text": [
      "+-----------------+\n",
      "|           Events|\n",
      "+-----------------+\n",
      "|        Rain-Snow|\n",
      "|              Fog|\n",
      "|         Fog-Rain|\n",
      "|             Rain|\n",
      "|             Snow|\n",
      "|Rain-Thunderstorm|\n",
      "|           Normal|\n",
      "+-----------------+\n",
      "\n"
     ]
    }
   ],
   "source": [
    "#df_weather_fix = df_weather_NoNAevent.withColumn(COLUMNA, regexp_replace(COLUMNA, VALOR A REEMPLAZAR, NUEVO VALOR))\n",
    "#Se estandariza los valores que tenian espacios o fueron ingresados de otra manera\n",
    "\n",
    "df_weather_fixed = df_weather_NoNAevent.withColumn('Events', regexp_replace('Events', 'Fog , Rain', 'Fog-Rain'))\\\n",
    "                                     .withColumn('Events', regexp_replace('Events', 'Rain , Snow', 'Rain-Snow'))\\\n",
    "                                     .withColumn('Events', regexp_replace('Events', 'Rain , Thunderstorm', 'Rain-Thunderstorm'))\n",
    "\n",
    "#Se comprueba la columna Events haya sido formateada exitosamente\n",
    "df_weather_fixed.select(\"Events\").distinct().show()"
   ]
  },
  {
   "cell_type": "code",
   "execution_count": 15,
   "metadata": {},
   "outputs": [
    {
     "name": "stdout",
     "output_type": "stream",
     "text": [
      "+-------+------------------+------------------+-----------------+-----------------+-----------------+------------------+-----------------+------------------+------------------+-------------------------+--------------------------+-------------------------+--------------------+---------------------+--------------------+------------------+-------------------+------------------+-------------------+------+\n",
      "|summary| Max_Temperature_F|Mean_Temperature_F| Min_TemperatureF|  Max_Dew_Point_F|  MeanDew_Point_F|    Min_Dewpoint_F|     Max_Humidity|     Mean_Humidity|      Min_Humidity|Max_Sea_Level_Pressure_In|Mean_Sea_Level_Pressure_In|Min_Sea_Level_Pressure_In|Max_Visibility_Miles|Mean_Visibility_Miles|Min_Visibility_Miles|Max_Wind_Speed_MPH|Mean_Wind_Speed_MPH|Max_Gust_Speed_MPH|   Precipitation_In|Events|\n",
      "+-------+------------------+------------------+-----------------+-----------------+-----------------+------------------+-----------------+------------------+------------------+-------------------------+--------------------------+-------------------------+--------------------+---------------------+--------------------+------------------+-------------------+------------------+-------------------+------+\n",
      "|  count|               689|               688|              689|              689|              689|               689|              689|               689|               689|                      689|                       689|                      689|                 689|                  689|                 689|               689|                689|               504|                689|   689|\n",
      "|   mean| 64.02757619738752|  56.5843023255814|49.45428156748911|48.57184325108853|45.02177068214804|40.873730043541364|84.54136429608128| 68.50653120464442| 49.97387518142235|       30.121741654571785|        30.034760522496352|       29.940609579100162|   9.989840348330913|    9.429608127721336|   7.245283018867925|11.085631349782293|  4.631349782293179|22.849462365591396|0.10506531204644416|  null|\n",
      "| stddev|12.427842666036538| 10.40805801821377|9.451437219164811|7.501229914567871|7.914025068848347| 8.854608453402333|9.718948101814224|12.701871120263478|15.825700770390313|      0.18336688828348863|        0.1975025223794319|      0.22180268302886977|  0.2666787612158108|   1.1743602873841612|   3.281277750671428| 3.921087101271782|   2.78031986529367| 6.083258492171062|0.23564366964145267|  null|\n",
      "|    min|                39|                33|               23|               10|                4|                 1|               40|                24|                15|                    29.47|                     29.31|                    29.14|                   3|                    1|                   0|                 4|                  0|                 -|                0.0|   Fog|\n",
      "|    max|                98|                83|               70|               77|               59|                57|              100|                95|                87|                    30.86|                     30.81|                    30.75|                  10|                   10|                  10|                30|                 23|                52|                2.2|  Snow|\n",
      "+-------+------------------+------------------+-----------------+-----------------+-----------------+------------------+-----------------+------------------+------------------+-------------------------+--------------------------+-------------------------+--------------------+---------------------+--------------------+------------------+-------------------+------------------+-------------------+------+\n",
      "\n"
     ]
    }
   ],
   "source": [
    "#Contamos con 1 registro nulo en Mean_Temperature_F el cual va a ser reemplazado por un valor numerico para evitar inconvenientes\n",
    "#Contamos 504 valores únicamente en la columna Max_Gust_Speed_MPH, a revisar\n",
    "df_weather_fixed.describe().show()"
   ]
  },
  {
   "cell_type": "code",
   "execution_count": 16,
   "metadata": {},
   "outputs": [
    {
     "name": "stdout",
     "output_type": "stream",
     "text": [
      "+----------+-----------------+------------------+----------------+-----------+\n",
      "|      Date|Max_Temperature_F|Mean_Temperature_F|Min_TemperatureF|mean_of_col|\n",
      "+----------+-----------------+------------------+----------------+-----------+\n",
      "|2014-10-13|               71|                62|              54|       62.5|\n",
      "|2014-10-14|               63|                59|              55|       59.0|\n",
      "|2014-10-15|               62|                58|              54|       58.0|\n",
      "|2014-10-16|               71|                61|              52|       61.5|\n",
      "|2014-10-17|               64|                60|              57|       60.5|\n",
      "+----------+-----------------+------------------+----------------+-----------+\n",
      "only showing top 5 rows\n",
      "\n"
     ]
    }
   ],
   "source": [
    "#Genero un dataset temporal bajo el nombre DF1 creando \n",
    "\n",
    "#Genero una nueva columna calculando la media en base a las columnas TempMax y TempMin\n",
    "df1=df_weather_fixed.withColumn(\"mean_of_col\", (col(\"Max_Temperature_F\")+col(\"Min_TemperatureF\"))/2)\n",
    "df1.select('Date','Max_Temperature_F','Mean_Temperature_F','Min_TemperatureF','mean_of_col').show(5)\n",
    "#Max_Temperature_F\n",
    "#Mean_Temperature_F\n",
    "#Min_TemperatureF\n"
   ]
  },
  {
   "cell_type": "code",
   "execution_count": 17,
   "metadata": {},
   "outputs": [
    {
     "name": "stdout",
     "output_type": "stream",
     "text": [
      "+-------+------------------+------------------+-----------------+-----------------+-----------------+------------------+-----------------+------------------+------------------+-------------------------+--------------------------+-------------------------+--------------------+---------------------+--------------------+------------------+-------------------+------------------+-------------------+------+-----------------+\n",
      "|summary| Max_Temperature_F|Mean_Temperature_F| Min_TemperatureF|  Max_Dew_Point_F|  MeanDew_Point_F|    Min_Dewpoint_F|     Max_Humidity|     Mean_Humidity|      Min_Humidity|Max_Sea_Level_Pressure_In|Mean_Sea_Level_Pressure_In|Min_Sea_Level_Pressure_In|Max_Visibility_Miles|Mean_Visibility_Miles|Min_Visibility_Miles|Max_Wind_Speed_MPH|Mean_Wind_Speed_MPH|Max_Gust_Speed_MPH|   Precipitation_In|Events|      mean_of_col|\n",
      "+-------+------------------+------------------+-----------------+-----------------+-----------------+------------------+-----------------+------------------+------------------+-------------------------+--------------------------+-------------------------+--------------------+---------------------+--------------------+------------------+-------------------+------------------+-------------------+------+-----------------+\n",
      "|  count|               689|               689|              689|              689|              689|               689|              689|               689|               689|                      689|                       689|                      689|                 689|                  689|                 689|               689|                689|               504|                689|   689|              689|\n",
      "|   mean| 64.02757619738752| 56.58200290275762|49.45428156748911|48.57184325108853|45.02177068214804|40.873730043541364|84.54136429608128| 68.50653120464442| 49.97387518142235|       30.121741654571785|        30.034760522496352|       29.940609579100162|   9.989840348330913|    9.429608127721336|   7.245283018867925|11.085631349782293|  4.631349782293179|22.849462365591396|0.10506531204644416|  null|56.74092888243832|\n",
      "| stddev|12.427842666036538|10.400666405583063|9.451437219164811|7.501229914567871|7.914025068848347| 8.854608453402333|9.718948101814224|12.701871120263478|15.825700770390313|      0.18336688828348863|        0.1975025223794319|      0.22180268302886977|  0.2666787612158108|   1.1743602873841612|   3.281277750671428| 3.921087101271782|   2.78031986529367| 6.083258492171062|0.23564366964145267|  null|10.53141105946231|\n",
      "|    min|                39|              33.0|               23|               10|                4|                 1|               40|                24|                15|                    29.47|                     29.31|                    29.14|                   3|                    1|                   0|                 4|                  0|                 -|                0.0|   Fog|             33.0|\n",
      "|    max|                98|              83.0|               70|               77|               59|                57|              100|                95|                87|                    30.86|                     30.81|                    30.75|                  10|                   10|                  10|                30|                 23|                52|                2.2|  Snow|             83.5|\n",
      "+-------+------------------+------------------+-----------------+-----------------+-----------------+------------------+-----------------+------------------+------------------+-------------------------+--------------------------+-------------------------+--------------------+---------------------+--------------------+------------------+-------------------+------------------+-------------------+------+-----------------+\n",
      "\n"
     ]
    }
   ],
   "source": [
    "#Se procede a reemplazar los nulos en la columna Mean_Temperature_F por valor en la columna mean_of_col\n",
    "df2=df1.withColumn('Mean_Temperature_F', coalesce('Mean_Temperature_F', 'mean_of_col'))\n",
    "df2.describe().show()\n",
    "\n"
   ]
  },
  {
   "cell_type": "code",
   "execution_count": 18,
   "metadata": {},
   "outputs": [
    {
     "name": "stdout",
     "output_type": "stream",
     "text": [
      "+-------+------------------+------------------+-----------------+-----------------+-----------------+------------------+-----------------+------------------+------------------+-------------------------+--------------------------+-------------------------+--------------------+---------------------+--------------------+------------------+-------------------+------------------+-------------------+------+\n",
      "|summary| Max_Temperature_F|Mean_Temperature_F| Min_TemperatureF|  Max_Dew_Point_F|  MeanDew_Point_F|    Min_Dewpoint_F|     Max_Humidity|     Mean_Humidity|      Min_Humidity|Max_Sea_Level_Pressure_In|Mean_Sea_Level_Pressure_In|Min_Sea_Level_Pressure_In|Max_Visibility_Miles|Mean_Visibility_Miles|Min_Visibility_Miles|Max_Wind_Speed_MPH|Mean_Wind_Speed_MPH|Max_Gust_Speed_MPH|   Precipitation_In|Events|\n",
      "+-------+------------------+------------------+-----------------+-----------------+-----------------+------------------+-----------------+------------------+------------------+-------------------------+--------------------------+-------------------------+--------------------+---------------------+--------------------+------------------+-------------------+------------------+-------------------+------+\n",
      "|  count|               689|               689|              689|              689|              689|               689|              689|               689|               689|                      689|                       689|                      689|                 689|                  689|                 689|               689|                689|               504|                689|   689|\n",
      "|   mean| 64.02757619738752| 56.58200290275762|49.45428156748911|48.57184325108853|45.02177068214804|40.873730043541364|84.54136429608128| 68.50653120464442| 49.97387518142235|       30.121741654571785|        30.034760522496352|       29.940609579100162|   9.989840348330913|    9.429608127721336|   7.245283018867925|11.085631349782293|  4.631349782293179|22.849462365591396|0.10506531204644416|  null|\n",
      "| stddev|12.427842666036538|10.400666405583063|9.451437219164811|7.501229914567871|7.914025068848347| 8.854608453402333|9.718948101814224|12.701871120263478|15.825700770390313|      0.18336688828348863|        0.1975025223794319|      0.22180268302886977|  0.2666787612158108|   1.1743602873841612|   3.281277750671428| 3.921087101271782|   2.78031986529367| 6.083258492171062|0.23564366964145267|  null|\n",
      "|    min|                39|              33.0|               23|               10|                4|                 1|               40|                24|                15|                    29.47|                     29.31|                    29.14|                   3|                    1|                   0|                 4|                  0|                 -|                0.0|   Fog|\n",
      "|    max|                98|              83.0|               70|               77|               59|                57|              100|                95|                87|                    30.86|                     30.81|                    30.75|                  10|                   10|                  10|                30|                 23|                52|                2.2|  Snow|\n",
      "+-------+------------------+------------------+-----------------+-----------------+-----------------+------------------+-----------------+------------------+------------------+-------------------------+--------------------------+-------------------------+--------------------+---------------------+--------------------+------------------+-------------------+------------------+-------------------+------+\n",
      "\n"
     ]
    }
   ],
   "source": [
    "#Se genera un nuevo dataframe llamado df_weather_fixed2 haciendo un drop de 'mean of col'\n",
    "df_weather_fixed2=df2.drop(col(\"mean_of_col\"))\n",
    "df_weather_fixed2.describe().show()"
   ]
  },
  {
   "cell_type": "code",
   "execution_count": 19,
   "metadata": {},
   "outputs": [
    {
     "name": "stdout",
     "output_type": "stream",
     "text": [
      "root\n",
      " |-- Date: date (nullable = true)\n",
      " |-- Max_Temperature_F: integer (nullable = true)\n",
      " |-- Mean_Temperature_F: double (nullable = true)\n",
      " |-- Min_TemperatureF: integer (nullable = true)\n",
      " |-- Max_Dew_Point_F: integer (nullable = true)\n",
      " |-- MeanDew_Point_F: integer (nullable = true)\n",
      " |-- Min_Dewpoint_F: integer (nullable = true)\n",
      " |-- Max_Humidity: integer (nullable = true)\n",
      " |-- Mean_Humidity: integer (nullable = true)\n",
      " |-- Min_Humidity: integer (nullable = true)\n",
      " |-- Max_Sea_Level_Pressure_In: double (nullable = true)\n",
      " |-- Mean_Sea_Level_Pressure_In: double (nullable = true)\n",
      " |-- Min_Sea_Level_Pressure_In: double (nullable = true)\n",
      " |-- Max_Visibility_Miles: integer (nullable = true)\n",
      " |-- Mean_Visibility_Miles: integer (nullable = true)\n",
      " |-- Min_Visibility_Miles: integer (nullable = true)\n",
      " |-- Max_Wind_Speed_MPH: integer (nullable = true)\n",
      " |-- Mean_Wind_Speed_MPH: integer (nullable = true)\n",
      " |-- Max_Gust_Speed_MPH: string (nullable = true)\n",
      " |-- Precipitation_In: double (nullable = true)\n",
      " |-- Events: string (nullable = false)\n",
      "\n"
     ]
    }
   ],
   "source": [
    "#En cuanto a 'Max_Gust_Speed_MPH' se procedera a reemplazar los valores nulos o con guiones a convertirlos a cero.\n",
    "#Basados en \"https://www.inumet.gub.uy/sites/default/files/2018-04/Inumet_Informe_postevento_12abril2018.pdf\"\n",
    "#Podemos afirmar que la rafaga de viento es \"el aumento breve y repentino de la velocidad del viento respecto a su valor medio, fuente OMM Nº182)\"\n",
    "#Fuente https://www.inumet.gub.uy/institucional/glosario\n",
    "#Es un aumento repentino y significativo en las fluctuaciones de la velocidad del viento. La velocidad punta del viento debe alcanzar por lo menos 16 nudos (30 km/h / 18.64 mp/h) y la variación entre los picos y la calma es de por lo menos 10 nudos (18 km/h / 11.18 mp/h). Generalmente la duración es menor de 20 segundos.\n",
    "#Esto refuerza el concepto que no siempre se presentaran rafagas de viento\n",
    "#De manera que si el valor es cero en esta medida sabremos que no hubieron rafagas de viento. Si bien es cierto que podríamos cambiar esta columna a una clasificación de RAFAGA o SIN RAFAGA por ejemplo, mantendremos la data para estudios posteriores de ser necesario\n",
    "df_weather_fixed2.printSchema()"
   ]
  },
  {
   "cell_type": "code",
   "execution_count": 20,
   "metadata": {},
   "outputs": [
    {
     "name": "stdout",
     "output_type": "stream",
     "text": [
      "+------------------+\n",
      "|Max_Gust_Speed_MPH|\n",
      "+------------------+\n",
      "|                29|\n",
      "|                30|\n",
      "|                34|\n",
      "|                22|\n",
      "|                28|\n",
      "|                16|\n",
      "|                52|\n",
      "|              null|\n",
      "|                31|\n",
      "|                18|\n",
      "|                17|\n",
      "|                26|\n",
      "|                46|\n",
      "|                41|\n",
      "|                23|\n",
      "|                 -|\n",
      "|                38|\n",
      "|                25|\n",
      "|                33|\n",
      "|                24|\n",
      "+------------------+\n",
      "only showing top 20 rows\n",
      "\n"
     ]
    }
   ],
   "source": [
    "#Basados en el tipo de dato Max y Mean Speed conjunto a los valores existentes de tipo numerico, deberiamos parsear la columna a tipo Integer.\n",
    "df_weather_fixed2.select(\"Max_Gust_Speed_MPH\").distinct().show()"
   ]
  },
  {
   "cell_type": "code",
   "execution_count": 21,
   "metadata": {},
   "outputs": [
    {
     "name": "stdout",
     "output_type": "stream",
     "text": [
      "+------------------+\n",
      "|Max_Gust_Speed_MPH|\n",
      "+------------------+\n",
      "|                29|\n",
      "|                30|\n",
      "|                34|\n",
      "|                22|\n",
      "|                28|\n",
      "|                16|\n",
      "|                52|\n",
      "|                 0|\n",
      "|              null|\n",
      "|                31|\n",
      "|                18|\n",
      "|                17|\n",
      "|                26|\n",
      "|                46|\n",
      "|                41|\n",
      "|                23|\n",
      "|                38|\n",
      "|                25|\n",
      "|                33|\n",
      "|                24|\n",
      "+------------------+\n",
      "only showing top 20 rows\n",
      "\n"
     ]
    }
   ],
   "source": [
    "#Se cambian los valores con \"-\" a cero de la columna Max_Gust_Speed_MPH\n",
    "df_weather_fixed2 = df_weather_fixed2.withColumn('Max_Gust_Speed_MPH', regexp_replace('Max_Gust_Speed_MPH', '-', '0'))\n",
    "df_weather_fixed2.select(\"Max_Gust_Speed_MPH\").distinct().show()"
   ]
  },
  {
   "cell_type": "code",
   "execution_count": 22,
   "metadata": {},
   "outputs": [
    {
     "name": "stdout",
     "output_type": "stream",
     "text": [
      "+------------------+\n",
      "|Max_Gust_Speed_MPH|\n",
      "+------------------+\n",
      "|                29|\n",
      "|                30|\n",
      "|                34|\n",
      "|                22|\n",
      "|                28|\n",
      "|                16|\n",
      "|                52|\n",
      "|                 0|\n",
      "|                31|\n",
      "|                18|\n",
      "|                17|\n",
      "|                26|\n",
      "|                46|\n",
      "|                41|\n",
      "|                23|\n",
      "|                38|\n",
      "|                25|\n",
      "|                33|\n",
      "|                24|\n",
      "|                32|\n",
      "+------------------+\n",
      "only showing top 20 rows\n",
      "\n"
     ]
    }
   ],
   "source": [
    "#Se cambian los valores nulos a cero de la columna Max_Gust_Speed_MPH\n",
    "df_weather_fixed2 = df_weather_fixed2.na.fill(\"0\", [\"Max_Gust_Speed_MPH\"])\n",
    "df_weather_fixed2.select(\"Max_Gust_Speed_MPH\").distinct().show()"
   ]
  },
  {
   "cell_type": "code",
   "execution_count": 23,
   "metadata": {},
   "outputs": [
    {
     "name": "stdout",
     "output_type": "stream",
     "text": [
      "root\n",
      " |-- Date: date (nullable = true)\n",
      " |-- Max_Temperature_F: integer (nullable = true)\n",
      " |-- Mean_Temperature_F: double (nullable = true)\n",
      " |-- Min_TemperatureF: integer (nullable = true)\n",
      " |-- Max_Dew_Point_F: integer (nullable = true)\n",
      " |-- MeanDew_Point_F: integer (nullable = true)\n",
      " |-- Min_Dewpoint_F: integer (nullable = true)\n",
      " |-- Max_Humidity: integer (nullable = true)\n",
      " |-- Mean_Humidity: integer (nullable = true)\n",
      " |-- Min_Humidity: integer (nullable = true)\n",
      " |-- Max_Sea_Level_Pressure_In: double (nullable = true)\n",
      " |-- Mean_Sea_Level_Pressure_In: double (nullable = true)\n",
      " |-- Min_Sea_Level_Pressure_In: double (nullable = true)\n",
      " |-- Max_Visibility_Miles: integer (nullable = true)\n",
      " |-- Mean_Visibility_Miles: integer (nullable = true)\n",
      " |-- Min_Visibility_Miles: integer (nullable = true)\n",
      " |-- Max_Wind_Speed_MPH: integer (nullable = true)\n",
      " |-- Mean_Wind_Speed_MPH: integer (nullable = true)\n",
      " |-- Max_Gust_Speed_MPH: integer (nullable = true)\n",
      " |-- Precipitation_In: double (nullable = true)\n",
      " |-- Events: string (nullable = false)\n",
      "\n"
     ]
    }
   ],
   "source": [
    "#Se importa debido a que se tenia un error \"NameError: name 'IntegerType' is not defined\"\n",
    "from pyspark.sql.types import IntegerType\n",
    "\n",
    "#Se castea la columna de String a Integer\n",
    "df_weather_fixed2=df_weather_fixed2.withColumn(\"Max_Gust_Speed_MPH\",df_weather_fixed2.Max_Gust_Speed_MPH.cast(IntegerType()))\n",
    "df_weather_fixed2.printSchema()"
   ]
  },
  {
   "cell_type": "markdown",
   "metadata": {},
   "source": [
    "# SE FINALIZA LA LIMPIEZA DE WEATHER GENERANDO DATAFRAME df_weather_fixed2"
   ]
  },
  {
   "cell_type": "code",
   "execution_count": 24,
   "metadata": {},
   "outputs": [
    {
     "name": "stdout",
     "output_type": "stream",
     "text": [
      "+------------------+\n",
      "|Max_Gust_Speed_MPH|\n",
      "+------------------+\n",
      "|                31|\n",
      "|                34|\n",
      "|                28|\n",
      "|                26|\n",
      "|                22|\n",
      "|                52|\n",
      "|                16|\n",
      "|                20|\n",
      "|                41|\n",
      "|                37|\n",
      "|                17|\n",
      "|                23|\n",
      "|                39|\n",
      "|                38|\n",
      "|                25|\n",
      "|                24|\n",
      "|                29|\n",
      "|                21|\n",
      "|                32|\n",
      "|                33|\n",
      "|                30|\n",
      "|                46|\n",
      "|                 0|\n",
      "|                18|\n",
      "|                36|\n",
      "+------------------+\n",
      "\n"
     ]
    }
   ],
   "source": [
    "#Todos los valores son validos y de tipo numerico en Max_Gust_Speed_MPH\n",
    "df_weather_fixed2.select(\"Max_Gust_Speed_MPH\").distinct().show(df_weather_fixed2.count())"
   ]
  },
  {
   "cell_type": "code",
   "execution_count": 25,
   "metadata": {},
   "outputs": [
    {
     "name": "stdout",
     "output_type": "stream",
     "text": [
      "+---------+\n",
      "|temporada|\n",
      "+---------+\n",
      "|   verano|\n",
      "|primavera|\n",
      "|    otoño|\n",
      "| invierno|\n",
      "+---------+\n",
      "\n"
     ]
    }
   ],
   "source": [
    "#Estaciones en USA\n",
    "#fuente https://www.visittheusa.mx/info/tiempo-y-estaciones-del-ano\n",
    "#primeravera 03-05\n",
    "#verano 06-08\n",
    "#otoño 09-11\n",
    "#invierno 12 - 01\n",
    "\n",
    "df_weather_fixed = df_weather_fixed2.withColumn (\"temporada\", when ( (month(\"Date\")<=5) & (month(\"Date\")>=3), \"primavera\").\\\n",
    "                                                otherwise(\n",
    "                                                     when ( (month(\"Date\")<=8) & (month(\"Date\")>=6), \"verano\").\\\n",
    "                                                     otherwise(\n",
    "                                                         when ( (month(\"Date\")<=11) & (month(\"Date\")>=9), \"otoño\").\\\n",
    "                                                         otherwise(\n",
    "                                                             \"invierno\"\n",
    "                                                         )\n",
    "                                                     )\n",
    "                                                )\n",
    ")\n",
    "\n",
    "\n",
    "df_weather_fixed.select(\"temporada\").distinct().show()"
   ]
  },
  {
   "cell_type": "code",
   "execution_count": 26,
   "metadata": {},
   "outputs": [
    {
     "name": "stdout",
     "output_type": "stream",
     "text": [
      "+-------+------------------+------------------+-----------------+-----------------+-----------------+------------------+-----------------+------------------+------------------+-------------------------+--------------------------+-------------------------+--------------------+---------------------+--------------------+------------------+-------------------+------------------+-------------------+------+---------+\n",
      "|summary| Max_Temperature_F|Mean_Temperature_F| Min_TemperatureF|  Max_Dew_Point_F|  MeanDew_Point_F|    Min_Dewpoint_F|     Max_Humidity|     Mean_Humidity|      Min_Humidity|Max_Sea_Level_Pressure_In|Mean_Sea_Level_Pressure_In|Min_Sea_Level_Pressure_In|Max_Visibility_Miles|Mean_Visibility_Miles|Min_Visibility_Miles|Max_Wind_Speed_MPH|Mean_Wind_Speed_MPH|Max_Gust_Speed_MPH|   Precipitation_In|Events|temporada|\n",
      "+-------+------------------+------------------+-----------------+-----------------+-----------------+------------------+-----------------+------------------+------------------+-------------------------+--------------------------+-------------------------+--------------------+---------------------+--------------------+------------------+-------------------+------------------+-------------------+------+---------+\n",
      "|  count|               689|               689|              689|              689|              689|               689|              689|               689|               689|                      689|                       689|                      689|                 689|                  689|                 689|               689|                689|               689|                689|   689|      689|\n",
      "|   mean| 64.02757619738752| 56.58200290275762|49.45428156748911|48.57184325108853|45.02177068214804|40.873730043541364|84.54136429608128| 68.50653120464442| 49.97387518142235|       30.121741654571785|        30.034760522496352|       29.940609579100162|   9.989840348330913|    9.429608127721336|   7.245283018867925|11.085631349782293|  4.631349782293179| 9.252539912917271|0.10506531204644416|  null|     null|\n",
      "| stddev|12.427842666036538|10.400666405583063|9.451437219164811|7.501229914567871|7.914025068848347| 8.854608453402333|9.718948101814224|12.701871120263478|15.825700770390313|      0.18336688828348863|        0.1975025223794319|      0.22180268302886977|  0.2666787612158108|   1.1743602873841612|   3.281277750671428| 3.921087101271782|   2.78031986529367|11.871897272449981|0.23564366964145267|  null|     null|\n",
      "|    min|                39|              33.0|               23|               10|                4|                 1|               40|                24|                15|                    29.47|                     29.31|                    29.14|                   3|                    1|                   0|                 4|                  0|                 0|                0.0|   Fog| invierno|\n",
      "|    max|                98|              83.0|               70|               77|               59|                57|              100|                95|                87|                    30.86|                     30.81|                    30.75|                  10|                   10|                  10|                30|                 23|                52|                2.2|  Snow|   verano|\n",
      "+-------+------------------+------------------+-----------------+-----------------+-----------------+------------------+-----------------+------------------+------------------+-------------------------+--------------------------+-------------------------+--------------------+---------------------+--------------------+------------------+-------------------+------------------+-------------------+------+---------+\n",
      "\n"
     ]
    }
   ],
   "source": [
    "df_weather_fixed.describe().show()"
   ]
  },
  {
   "cell_type": "markdown",
   "metadata": {},
   "source": [
    "# Fin de trabajo de correcion de weather.csv\n",
    "#df_stations_fixed\n",
    "#df_weather_fixed\n"
   ]
  },
  {
   "cell_type": "markdown",
   "metadata": {},
   "source": [
    "# Inicio de trabajo con trip.csv"
   ]
  },
  {
   "cell_type": "code",
   "execution_count": 27,
   "metadata": {},
   "outputs": [
    {
     "data": {
      "text/plain": [
       "[Row(trip_id=431, starttime='10/13/2014 10:31', stoptime='10/13/2014 10:48', bikeid='SEA00298', tripduration=985.935, from_station_name='2nd Ave & Spring St', to_station_name='Occidental Park / Occidental Ave S & S Washington St', from_station_id='CBD-06', to_station_id='PS-04', usertype='Member', gender='Male', birthyear='1960'),\n",
       " Row(trip_id=432, starttime='10/13/2014 10:32', stoptime='10/13/2014 10:48', bikeid='SEA00195', tripduration=926.375, from_station_name='2nd Ave & Spring St', to_station_name='Occidental Park / Occidental Ave S & S Washington St', from_station_id='CBD-06', to_station_id='PS-04', usertype='Member', gender='Male', birthyear='1970'),\n",
       " Row(trip_id=433, starttime='10/13/2014 10:33', stoptime='10/13/2014 10:48', bikeid='SEA00486', tripduration=883.831, from_station_name='2nd Ave & Spring St', to_station_name='Occidental Park / Occidental Ave S & S Washington St', from_station_id='CBD-06', to_station_id='PS-04', usertype='Member', gender='Female', birthyear='1988'),\n",
       " Row(trip_id=434, starttime='10/13/2014 10:34', stoptime='10/13/2014 10:48', bikeid='SEA00333', tripduration=865.937, from_station_name='2nd Ave & Spring St', to_station_name='Occidental Park / Occidental Ave S & S Washington St', from_station_id='CBD-06', to_station_id='PS-04', usertype='Member', gender='Female', birthyear='1977'),\n",
       " Row(trip_id=435, starttime='10/13/2014 10:34', stoptime='10/13/2014 10:49', bikeid='SEA00202', tripduration=923.923, from_station_name='2nd Ave & Spring St', to_station_name='Occidental Park / Occidental Ave S & S Washington St', from_station_id='CBD-06', to_station_id='PS-04', usertype='Member', gender='Male', birthyear='1971')]"
      ]
     },
     "execution_count": 27,
     "metadata": {},
     "output_type": "execute_result"
    }
   ],
   "source": [
    "\n",
    "df_trip_raw = spark.read\\\n",
    "  .format('org.apache.spark.sql.execution.datasources.csv.CSVFileFormat')\\\n",
    "    .option('InferSchema','true')\\\n",
    "    .option('header', 'true')\\\n",
    "  .load(cos.url('trip.csv', 'tallerdadatasciencecamiloferreira-donotdelete-pr-fz0ndvhao4eorr'))\n",
    "df_trip_raw.take(5)\n"
   ]
  },
  {
   "cell_type": "code",
   "execution_count": 28,
   "metadata": {},
   "outputs": [
    {
     "data": {
      "text/plain": [
       "286858"
      ]
     },
     "execution_count": 28,
     "metadata": {},
     "output_type": "execute_result"
    }
   ],
   "source": [
    "#Se contabiliza la cantidad de registros en la tabla de trips\n",
    "df_trip_raw.count()"
   ]
  },
  {
   "cell_type": "code",
   "execution_count": 29,
   "metadata": {},
   "outputs": [
    {
     "data": {
      "text/plain": [
       "236066"
      ]
     },
     "execution_count": 29,
     "metadata": {},
     "output_type": "execute_result"
    }
   ],
   "source": [
    "#Se contabiliza la cantidad de registros unicos en la tabla de trips\n",
    "df_trip_raw.distinct().count()"
   ]
  },
  {
   "cell_type": "code",
   "execution_count": 30,
   "metadata": {},
   "outputs": [
    {
     "name": "stdout",
     "output_type": "stream",
     "text": [
      "root\n",
      " |-- trip_id: integer (nullable = true)\n",
      " |-- starttime: string (nullable = true)\n",
      " |-- stoptime: string (nullable = true)\n",
      " |-- bikeid: string (nullable = true)\n",
      " |-- tripduration: double (nullable = true)\n",
      " |-- from_station_name: string (nullable = true)\n",
      " |-- to_station_name: string (nullable = true)\n",
      " |-- from_station_id: string (nullable = true)\n",
      " |-- to_station_id: string (nullable = true)\n",
      " |-- usertype: string (nullable = true)\n",
      " |-- gender: string (nullable = true)\n",
      " |-- birthyear: string (nullable = true)\n",
      "\n"
     ]
    }
   ],
   "source": [
    "df_trip_raw.printSchema()"
   ]
  },
  {
   "cell_type": "code",
   "execution_count": 31,
   "metadata": {},
   "outputs": [
    {
     "data": {
      "text/plain": [
       "236065"
      ]
     },
     "execution_count": 31,
     "metadata": {},
     "output_type": "execute_result"
    }
   ],
   "source": [
    "#Hay un trip id que se repite con registros distintos\n",
    "df_trip_raw.select(\"trip_id\").distinct().count()"
   ]
  },
  {
   "cell_type": "code",
   "execution_count": 32,
   "metadata": {},
   "outputs": [
    {
     "data": {
      "text/plain": [
       "DataFrame[trip_id: int, starttime: string, stoptime: string, bikeid: string, tripduration: double, from_station_name: string, to_station_name: string, from_station_id: string, to_station_id: string, usertype: string, gender: string, birthyear: string]"
      ]
     },
     "execution_count": 32,
     "metadata": {},
     "output_type": "execute_result"
    }
   ],
   "source": [
    "#Se utiliza la funcion cache para aumentar eficiencia del procesamiento\n",
    "df_trips_deduc = df_trip_raw.distinct()\n",
    "df_trips_deduc.cache()"
   ]
  },
  {
   "cell_type": "code",
   "execution_count": 33,
   "metadata": {},
   "outputs": [
    {
     "name": "stdout",
     "output_type": "stream",
     "text": [
      "+-------+--------+\n",
      "|trip_id|cantidad|\n",
      "+-------+--------+\n",
      "|  59000|       2|\n",
      "| 220377|       1|\n",
      "| 166644|       1|\n",
      "| 213962|       1|\n",
      "|  43256|       1|\n",
      "|  82385|       1|\n",
      "| 145747|       1|\n",
      "| 164704|       1|\n",
      "| 183920|       1|\n",
      "| 193728|       1|\n",
      "| 216144|       1|\n",
      "| 225626|       1|\n",
      "| 248280|       1|\n",
      "|  40687|       1|\n",
      "|  50732|       1|\n",
      "|  51622|       1|\n",
      "| 101740|       1|\n",
      "| 126385|       1|\n",
      "| 157712|       1|\n",
      "| 168235|       1|\n",
      "+-------+--------+\n",
      "only showing top 20 rows\n",
      "\n"
     ]
    }
   ],
   "source": [
    "#Se listan los trip_ids conjunto a su count\n",
    "#De manera se identifica que trip_id está repetido\n",
    "df_trips_deduc.groupBy (\"trip_id\").agg(count(\"*\").alias(\"cantidad\")).orderBy(desc(\"cantidad\")).show()"
   ]
  },
  {
   "cell_type": "code",
   "execution_count": 34,
   "metadata": {},
   "outputs": [
    {
     "name": "stdout",
     "output_type": "stream",
     "text": [
      "+-------+---------------+---------------+--------+------------+--------------------+--------------------+---------------+----------------+--------------------+--------+---------+\n",
      "|trip_id|      starttime|       stoptime|  bikeid|tripduration|   from_station_name|     to_station_name|from_station_id|   to_station_id|            usertype|  gender|birthyear|\n",
      "+-------+---------------+---------------+--------+------------+--------------------+--------------------+---------------+----------------+--------------------+--------+---------+\n",
      "|  59000|4/17/2015 14:21|4/17/2015 19:21|SEA00362|   17990.668|6th Ave S & S Kin...|Westlake Ave & 6t...|          ID-04|\"SLU-15\"trip_id\"|           starttime|stoptime|   bikeid|\n",
      "|  59000|4/17/2015 14:21|4/17/2015 19:21|SEA00362|   17990.668|6th Ave S & S Kin...|Westlake Ave & 6t...|          ID-04|          SLU-15|Short-Term Pass H...|    null|     null|\n",
      "+-------+---------------+---------------+--------+------------+--------------------+--------------------+---------------+----------------+--------------------+--------+---------+\n",
      "\n"
     ]
    }
   ],
   "source": [
    "#Se muestran los registros con ID 59000, encontramos que el registro con gender stoptime es incorrect, deberia borrarse\n",
    "df_trips_deduc.filter(\"trip_id=59000\").show()"
   ]
  },
  {
   "cell_type": "code",
   "execution_count": 35,
   "metadata": {},
   "outputs": [
    {
     "name": "stdout",
     "output_type": "stream",
     "text": [
      "+-------+---------------+---------------+--------+------------+--------------------+--------------------+---------------+----------------+---------+--------+---------+\n",
      "|trip_id|      starttime|       stoptime|  bikeid|tripduration|   from_station_name|     to_station_name|from_station_id|   to_station_id| usertype|  gender|birthyear|\n",
      "+-------+---------------+---------------+--------+------------+--------------------+--------------------+---------------+----------------+---------+--------+---------+\n",
      "|  59000|4/17/2015 14:21|4/17/2015 19:21|SEA00362|   17990.668|6th Ave S & S Kin...|Westlake Ave & 6t...|          ID-04|\"SLU-15\"trip_id\"|starttime|stoptime|   bikeid|\n",
      "+-------+---------------+---------------+--------+------------+--------------------+--------------------+---------------+----------------+---------+--------+---------+\n",
      "\n"
     ]
    }
   ],
   "source": [
    "df_eliminar = df_trips_deduc.filter (\"trip_id = '59000' and gender = 'stoptime'\")\n",
    "df_eliminar.show()"
   ]
  },
  {
   "cell_type": "code",
   "execution_count": 36,
   "metadata": {},
   "outputs": [
    {
     "data": {
      "text/plain": [
       "236065"
      ]
     },
     "execution_count": 36,
     "metadata": {},
     "output_type": "execute_result"
    }
   ],
   "source": [
    "#Iguala a df_trip_raw.select(\"trip_id\").distinct().count()\n",
    "#Lo cual verifica que fue eliminado el registro con trip_id duplicado\n",
    "df_trips_uniqueids = df_trips_deduc.subtract(df_eliminar)\n",
    "df_trips_uniqueids.count()"
   ]
  },
  {
   "cell_type": "code",
   "execution_count": 37,
   "metadata": {},
   "outputs": [
    {
     "name": "stdout",
     "output_type": "stream",
     "text": [
      "root\n",
      " |-- trip_id: integer (nullable = true)\n",
      " |-- starttime: string (nullable = true)\n",
      " |-- stoptime: string (nullable = true)\n",
      " |-- bikeid: string (nullable = true)\n",
      " |-- tripduration: double (nullable = true)\n",
      " |-- from_station_name: string (nullable = true)\n",
      " |-- to_station_name: string (nullable = true)\n",
      " |-- from_station_id: string (nullable = true)\n",
      " |-- to_station_id: string (nullable = true)\n",
      " |-- usertype: string (nullable = true)\n",
      " |-- gender: string (nullable = true)\n",
      " |-- birthyear: string (nullable = true)\n",
      "\n"
     ]
    }
   ],
   "source": [
    "#StarTime, StopTime deberian ser DateTime\n",
    "#birthyear deberia ser Integer (ya que no deben haber años con decimales)\n",
    "#Resta aun sanear los datos que tengan como gender stoptime\n",
    "df_trips_uniqueids.printSchema()"
   ]
  },
  {
   "cell_type": "code",
   "execution_count": 38,
   "metadata": {},
   "outputs": [
    {
     "name": "stdout",
     "output_type": "stream",
     "text": [
      "+----------------+----------------+\n",
      "|       starttime|        stoptime|\n",
      "+----------------+----------------+\n",
      "|12/31/2014 11:38|12/31/2014 11:54|\n",
      "| 7/26/2015 14:24| 7/26/2015 14:54|\n",
      "| 8/18/2015 10:04| 8/18/2015 10:05|\n",
      "| 9/15/2015 13:29| 9/15/2015 13:43|\n",
      "| 6/20/2016 20:42| 6/20/2016 20:45|\n",
      "+----------------+----------------+\n",
      "only showing top 5 rows\n",
      "\n"
     ]
    }
   ],
   "source": [
    "#Verificacion de tipo de dato de startime y stoptime\n",
    "df_trips_uniqueids.select(\"starttime\",\"stoptime\").show(5)"
   ]
  },
  {
   "cell_type": "code",
   "execution_count": 39,
   "metadata": {},
   "outputs": [
    {
     "name": "stdout",
     "output_type": "stream",
     "text": [
      "root\n",
      " |-- trip_id: integer (nullable = true)\n",
      " |-- starttime: timestamp (nullable = true)\n",
      " |-- stoptime: timestamp (nullable = true)\n",
      " |-- bikeid: string (nullable = true)\n",
      " |-- tripduration: double (nullable = true)\n",
      " |-- from_station_name: string (nullable = true)\n",
      " |-- to_station_name: string (nullable = true)\n",
      " |-- from_station_id: string (nullable = true)\n",
      " |-- to_station_id: string (nullable = true)\n",
      " |-- usertype: string (nullable = true)\n",
      " |-- gender: string (nullable = true)\n",
      " |-- birthyear: string (nullable = true)\n",
      " |-- Date: date (nullable = true)\n",
      "\n"
     ]
    }
   ],
   "source": [
    "#Se elige \"M/d/yyyy H:m\" para asegurar que no haya errores\n",
    "#En este caso ya conocemos que el starttime y el stoptime datan del mismo dia\n",
    "#Se genera un nuevo dataframe llamado df_trips_fixed\n",
    "df_trips_fixed = df_trips_uniqueids.withColumn(\"starttime\",to_timestamp(col(\"starttime\"),'M/d/yyyy H:m')).\\\n",
    "                                    withColumn(\"stoptime\",to_timestamp(col(\"stoptime\"),'M/d/yyyy H:m')).\\\n",
    "                                    withColumn(\"Date\",to_date(col(\"starttime\")))\n",
    "\n",
    "#Se comprueba que startime y stoptime sean datetime y date sea date\n",
    "df_trips_fixed.printSchema()        "
   ]
  },
  {
   "cell_type": "code",
   "execution_count": 40,
   "metadata": {},
   "outputs": [
    {
     "name": "stdout",
     "output_type": "stream",
     "text": [
      "+-------+-------------------+-------------------+\n",
      "|trip_id|          starttime|           stoptime|\n",
      "+-------+-------------------+-------------------+\n",
      "|   8669|2014-11-02 01:44:00|2014-11-02 01:04:00|\n",
      "|   8660|2014-11-02 01:29:00|2014-11-02 01:12:00|\n",
      "|   8666|2014-11-02 01:31:00|2014-11-02 01:11:00|\n",
      "|   8663|2014-11-02 01:29:00|2014-11-02 01:11:00|\n",
      "|   8670|2014-11-02 01:52:00|2014-11-02 01:07:00|\n",
      "|   8667|2014-11-02 01:37:00|2014-11-02 01:12:00|\n",
      "|   8672|2014-11-02 01:59:00|2014-11-02 01:25:00|\n",
      "+-------+-------------------+-------------------+\n",
      "\n"
     ]
    }
   ],
   "source": [
    "#Luego de transformar los datos correctamente y agregar columna date\n",
    "#Reviso que si hay presencia de trips con mayor startime a stoptime\n",
    "#De esta manera podemos asegurarnos de no necesitar crear una segunda columna auxiliar de date, para casos de viajes que empiece por ejemplo dia 1 y terminen dia 2, experimentando mas de un clima\n",
    "#En caso de hallar viajes con startime mayor al stoptime deberan ser eliminados (viajes que difieren a nivel hora, ejemplo startime es 1 de abril a las 14 horas y stoptime es 1 de abril a las 13 horas)\n",
    "df_temp = df_trips_fixed.filter(col(\"starttime\") > col(\"stoptime\"))\n",
    "df_temp.select(\"trip_id\",\"starttime\",\"stoptime\").show()"
   ]
  },
  {
   "cell_type": "code",
   "execution_count": 41,
   "metadata": {},
   "outputs": [
    {
     "data": {
      "text/plain": [
       "236065"
      ]
     },
     "execution_count": 41,
     "metadata": {},
     "output_type": "execute_result"
    }
   ],
   "source": [
    "#Cantidad registros sin eliminar el subgrupo de starttime > stoptime\n",
    "df_trips_fixed.count()"
   ]
  },
  {
   "cell_type": "code",
   "execution_count": 42,
   "metadata": {},
   "outputs": [
    {
     "data": {
      "text/plain": [
       "7"
      ]
     },
     "execution_count": 42,
     "metadata": {},
     "output_type": "execute_result"
    }
   ],
   "source": [
    "#Cantidad de registros a eliminar\n",
    "df_temp.count()"
   ]
  },
  {
   "cell_type": "code",
   "execution_count": 43,
   "metadata": {},
   "outputs": [
    {
     "data": {
      "text/plain": [
       "236058"
      ]
     },
     "execution_count": 43,
     "metadata": {},
     "output_type": "execute_result"
    }
   ],
   "source": [
    "#236065 - 7 = 236058 registros deberia resultar de eliminar registros con startime mayor a stoptime\n",
    "df_trips_fixed = df_trips_fixed.subtract(df_temp)\n",
    "df_trips_fixed.count()"
   ]
  },
  {
   "cell_type": "code",
   "execution_count": 44,
   "metadata": {},
   "outputs": [
    {
     "name": "stdout",
     "output_type": "stream",
     "text": [
      "root\n",
      " |-- trip_id: integer (nullable = true)\n",
      " |-- starttime: timestamp (nullable = true)\n",
      " |-- stoptime: timestamp (nullable = true)\n",
      " |-- bikeid: string (nullable = true)\n",
      " |-- tripduration: double (nullable = true)\n",
      " |-- from_station_name: string (nullable = true)\n",
      " |-- to_station_name: string (nullable = true)\n",
      " |-- from_station_id: string (nullable = true)\n",
      " |-- to_station_id: string (nullable = true)\n",
      " |-- usertype: string (nullable = true)\n",
      " |-- gender: string (nullable = true)\n",
      " |-- birthyear: string (nullable = true)\n",
      " |-- Date: date (nullable = true)\n",
      "\n"
     ]
    }
   ],
   "source": [
    "#Revision schema df_stations fixed\n",
    "df_trips_fixed.printSchema()"
   ]
  },
  {
   "cell_type": "code",
   "execution_count": 45,
   "metadata": {},
   "outputs": [
    {
     "name": "stdout",
     "output_type": "stream",
     "text": [
      "+------+\n",
      "|gender|\n",
      "+------+\n",
      "|  null|\n",
      "|Female|\n",
      "| Other|\n",
      "|  Male|\n",
      "+------+\n",
      "\n"
     ]
    }
   ],
   "source": [
    "#revision gender\n",
    "df_trips_fixed.select(\"gender\").distinct().show()\n",
    "#En base a consulta realizada se toma como valido el null, indica que el usuario no estuvo dispuesto a responder este dato"
   ]
  },
  {
   "cell_type": "code",
   "execution_count": 46,
   "metadata": {},
   "outputs": [
    {
     "name": "stdout",
     "output_type": "stream",
     "text": [
      "+--------------------+\n",
      "|            usertype|\n",
      "+--------------------+\n",
      "|Short-Term Pass H...|\n",
      "|              Member|\n",
      "+--------------------+\n",
      "\n"
     ]
    }
   ],
   "source": [
    "#revision usertype\n",
    "df_trips_fixed.select(\"usertype\").distinct().show()\n",
    "#contamos con los datos correctos"
   ]
  },
  {
   "cell_type": "code",
   "execution_count": 47,
   "metadata": {},
   "outputs": [
    {
     "name": "stdout",
     "output_type": "stream",
     "text": [
      "+---------+\n",
      "|birthyear|\n",
      "+---------+\n",
      "|     1953|\n",
      "|     1957|\n",
      "|     1987|\n",
      "|     1956|\n",
      "|     1936|\n",
      "|     1958|\n",
      "|     1943|\n",
      "|     1972|\n",
      "|     1931|\n",
      "|     1988|\n",
      "|     1977|\n",
      "|     1971|\n",
      "|     1984|\n",
      "|     1982|\n",
      "|     1965|\n",
      "|     1962|\n",
      "|     1954|\n",
      "|     null|\n",
      "|     1981|\n",
      "|     1978|\n",
      "+---------+\n",
      "only showing top 20 rows\n",
      "\n"
     ]
    }
   ],
   "source": [
    "#revision birthyear para un posterior parseo\n",
    "df_trips_fixed.select(\"birthyear\").distinct().show()\n",
    "#Notamos que consta de valores numericos y nulos, notando que algunos usuarios no estaban dispuestos a brindar la informacion"
   ]
  },
  {
   "cell_type": "code",
   "execution_count": 48,
   "metadata": {},
   "outputs": [
    {
     "name": "stdout",
     "output_type": "stream",
     "text": [
      "root\n",
      " |-- trip_id: integer (nullable = true)\n",
      " |-- starttime: timestamp (nullable = true)\n",
      " |-- stoptime: timestamp (nullable = true)\n",
      " |-- bikeid: string (nullable = true)\n",
      " |-- tripduration: double (nullable = true)\n",
      " |-- from_station_name: string (nullable = true)\n",
      " |-- to_station_name: string (nullable = true)\n",
      " |-- from_station_id: string (nullable = true)\n",
      " |-- to_station_id: string (nullable = true)\n",
      " |-- usertype: string (nullable = true)\n",
      " |-- gender: string (nullable = true)\n",
      " |-- birthyear: integer (nullable = true)\n",
      " |-- Date: date (nullable = true)\n",
      "\n"
     ]
    }
   ],
   "source": [
    "#df_weather_fixed2=df_weather_fixed2.withColumn(\"Max_Gust_Speed_MPH\",df_weather_fixed2.Max_Gust_Speed_MPH.cast(IntegerType()))\n",
    "#df_weather_fixed2.printSchema()\n",
    "\n",
    "df_trips_fixed=df_trips_fixed.withColumn(\"birthyear\",df_trips_fixed.birthyear.cast(IntegerType()))\n",
    "df_trips_fixed.printSchema()"
   ]
  },
  {
   "cell_type": "code",
   "execution_count": 49,
   "metadata": {},
   "outputs": [
    {
     "name": "stdout",
     "output_type": "stream",
     "text": [
      "+---------+\n",
      "|birthyear|\n",
      "+---------+\n",
      "|     1959|\n",
      "|     1990|\n",
      "|     1975|\n",
      "|     1977|\n",
      "|     1974|\n",
      "|     1955|\n",
      "|     1978|\n",
      "|     1961|\n",
      "|     1942|\n",
      "|     1939|\n",
      "|     1944|\n",
      "|     null|\n",
      "|     1952|\n",
      "|     1956|\n",
      "|     1988|\n",
      "|     1997|\n",
      "|     1994|\n",
      "|     1968|\n",
      "|     1951|\n",
      "|     1973|\n",
      "+---------+\n",
      "only showing top 20 rows\n",
      "\n"
     ]
    }
   ],
   "source": [
    "#Revision de valores de birthyear posterior al parseo\n",
    "df_trips_fixed.select(\"birthyear\").distinct().show()"
   ]
  },
  {
   "cell_type": "code",
   "execution_count": 50,
   "metadata": {},
   "outputs": [
    {
     "data": {
      "text/plain": [
       "236058"
      ]
     },
     "execution_count": 50,
     "metadata": {},
     "output_type": "execute_result"
    }
   ],
   "source": [
    "#Sigo contando con 236058 registros\n",
    "df_trips_fixed.count()"
   ]
  },
  {
   "cell_type": "code",
   "execution_count": 51,
   "metadata": {},
   "outputs": [
    {
     "name": "stdout",
     "output_type": "stream",
     "text": [
      "root\n",
      " |-- trip_id: integer (nullable = true)\n",
      " |-- starttime: timestamp (nullable = true)\n",
      " |-- stoptime: timestamp (nullable = true)\n",
      " |-- bikeid: string (nullable = true)\n",
      " |-- tripduration: double (nullable = true)\n",
      " |-- from_station_name: string (nullable = true)\n",
      " |-- to_station_name: string (nullable = true)\n",
      " |-- from_station_id: string (nullable = true)\n",
      " |-- to_station_id: string (nullable = true)\n",
      " |-- usertype: string (nullable = true)\n",
      " |-- gender: string (nullable = true)\n",
      " |-- birthyear: integer (nullable = true)\n",
      " |-- Date: date (nullable = true)\n",
      " |-- age: integer (nullable = true)\n",
      "\n"
     ]
    }
   ],
   "source": [
    "#Creando edad del user al momento de hacer el viaje\n",
    "\n",
    "#todays_year = date.today().year\n",
    "df_trips_fixed = df_trips_fixed.withColumn (\"age\",year(\"starttime\")-col(\"birthyear\"))\n",
    "\n",
    "#df_trips_fixed = df_trips_fixed.withColumn(\"age\", ((year(col(\"Date\"))) - (year(col(\"birthyear\")))))\n",
    "\n",
    "df_trips_fixed.printSchema()"
   ]
  },
  {
   "cell_type": "code",
   "execution_count": 52,
   "metadata": {},
   "outputs": [
    {
     "name": "stdout",
     "output_type": "stream",
     "text": [
      "+----+\n",
      "| age|\n",
      "+----+\n",
      "|  31|\n",
      "|  85|\n",
      "|  65|\n",
      "|  53|\n",
      "|  78|\n",
      "|  34|\n",
      "|  28|\n",
      "|  76|\n",
      "|  26|\n",
      "|  27|\n",
      "|  44|\n",
      "|  22|\n",
      "|  47|\n",
      "|null|\n",
      "|  52|\n",
      "|  16|\n",
      "|  40|\n",
      "|  20|\n",
      "|  57|\n",
      "|  54|\n",
      "|  48|\n",
      "|  19|\n",
      "|  64|\n",
      "|  41|\n",
      "|  43|\n",
      "|  37|\n",
      "|  61|\n",
      "|  17|\n",
      "|  72|\n",
      "|  35|\n",
      "|  55|\n",
      "|  59|\n",
      "|  23|\n",
      "|  39|\n",
      "|  49|\n",
      "|  51|\n",
      "|  69|\n",
      "|  63|\n",
      "|  77|\n",
      "|  50|\n",
      "|  45|\n",
      "|  38|\n",
      "|  80|\n",
      "|  25|\n",
      "|  73|\n",
      "|  24|\n",
      "|  70|\n",
      "|  62|\n",
      "|  29|\n",
      "|  21|\n",
      "|  32|\n",
      "|  60|\n",
      "|  56|\n",
      "|  58|\n",
      "|  33|\n",
      "|  68|\n",
      "|  71|\n",
      "|  42|\n",
      "|  79|\n",
      "|  30|\n",
      "|  66|\n",
      "|  46|\n",
      "|  67|\n",
      "|  18|\n",
      "|  36|\n",
      "+----+\n",
      "\n"
     ]
    }
   ],
   "source": [
    "#Se muestra todas las edades calculadas\n",
    "df_trips_fixed.select(\"age\").distinct().show(df_trips_fixed.select(\"age\").distinct().count())"
   ]
  },
  {
   "cell_type": "code",
   "execution_count": 53,
   "metadata": {},
   "outputs": [
    {
     "name": "stdout",
     "output_type": "stream",
     "text": [
      "root\n",
      " |-- station_id: string (nullable = true)\n",
      " |-- name: string (nullable = true)\n",
      " |-- lat: double (nullable = true)\n",
      " |-- long: double (nullable = true)\n",
      " |-- install_date: date (nullable = true)\n",
      " |-- install_dockcount: integer (nullable = true)\n",
      " |-- modification_date: date (nullable = true)\n",
      " |-- current_dockcount: integer (nullable = true)\n",
      " |-- decommission_date: date (nullable = true)\n",
      " |-- quarter_install_date: integer (nullable = true)\n",
      "\n",
      "+-------+----------+--------------------+-----------------+--------------------+------------------+------------------+--------------------+\n",
      "|summary|station_id|                name|              lat|                long| install_dockcount| current_dockcount|quarter_install_date|\n",
      "+-------+----------+--------------------+-----------------+--------------------+------------------+------------------+--------------------+\n",
      "|  count|        58|                  58|               58|                  58|                58|                58|                  58|\n",
      "|   mean|      null|                null|47.62479551586206| -122.32724190862069|17.586206896551722|16.517241379310345|   3.810344827586207|\n",
      "| stddev|      null|                null| 0.01906576274897|0.014956664123887123| 3.060985294637446| 5.117021403705188|  0.5760390018388021|\n",
      "|    min|     BT-01|12th Ave & E Denn...|        47.598488|          -122.35523|                12|                 0|                   1|\n",
      "|    max|     WF-04|Westlake Ave & 6t...|        47.666145|         -122.284119|                30|                26|                   4|\n",
      "+-------+----------+--------------------+-----------------+--------------------+------------------+------------------+--------------------+\n",
      "\n"
     ]
    }
   ],
   "source": [
    "#Se agrega una columna de quarter en base a la install date la cual no tiene nulos. Esto ayudara a un posterior analisis de progresion de creacion de estaciones en caso de realizarse\n",
    "df_stations_fixed=df_stations_fixed.withColumn(\"quarter_install_date\",quarter(\"install_date\"))\n",
    "df_stations_fixed.printSchema()\n",
    "df_stations_fixed.describe().show()\n",
    "#LAT y LONG estan en double, reminder propio"
   ]
  },
  {
   "cell_type": "code",
   "execution_count": 54,
   "metadata": {},
   "outputs": [
    {
     "name": "stdout",
     "output_type": "stream",
     "text": [
      "root\n",
      " |-- trip_id: integer (nullable = true)\n",
      " |-- starttime: timestamp (nullable = true)\n",
      " |-- stoptime: timestamp (nullable = true)\n",
      " |-- bikeid: string (nullable = true)\n",
      " |-- tripduration: double (nullable = true)\n",
      " |-- from_station_name: string (nullable = true)\n",
      " |-- to_station_name: string (nullable = true)\n",
      " |-- from_station_id: string (nullable = true)\n",
      " |-- to_station_id: string (nullable = true)\n",
      " |-- usertype: string (nullable = true)\n",
      " |-- gender: string (nullable = true)\n",
      " |-- birthyear: integer (nullable = true)\n",
      " |-- Date: date (nullable = true)\n",
      " |-- age: integer (nullable = true)\n",
      " |-- quarter_date: integer (nullable = true)\n",
      "\n",
      "+-------+------------------+--------+------------------+--------------------+--------------------+---------------+-------------+--------------------+------+------------------+------------------+------------------+\n",
      "|summary|           trip_id|  bikeid|      tripduration|   from_station_name|     to_station_name|from_station_id|to_station_id|            usertype|gender|         birthyear|               age|      quarter_date|\n",
      "+-------+------------------+--------+------------------+--------------------+--------------------+---------------+-------------+--------------------+------+------------------+------------------+------------------+\n",
      "|  count|            236058|  236058|            236058|              236058|              236058|         236058|       236058|              236058|146169|            146165|            146165|            236058|\n",
      "|   mean|130063.46909234171|    null|1202.5917710011943|                null|                null|           null|         null|                null|  null|  1979.87964286936| 35.32662402079841| 2.498936701996967|\n",
      "| stddev| 72840.36964235036|    null| 2066.449374854736|                null|                null|           null|         null|                null|  null|10.155011011029078|10.155851429752447|0.9850813464483386|\n",
      "|    min|               431|SEA00001|            60.008|12th Ave & E Denn...|12th Ave & E Denn...|      8D OPS 02|    8D OPS 02|              Member|Female|              1931|                16|                 1|\n",
      "|    max|            255245|SEA99997|         28794.398|Westlake Ave & 6t...|Westlake Ave & 6t...|          WF-04|        WF-04|Short-Term Pass H...| Other|              1999|                85|                 4|\n",
      "+-------+------------------+--------+------------------+--------------------+--------------------+---------------+-------------+--------------------+------+------------------+------------------+------------------+\n",
      "\n"
     ]
    }
   ],
   "source": [
    "#Se genera el quarter en base a la columna generada de fecha, \"Date\"\n",
    "df_trips_fixed=df_trips_fixed.withColumn(\"quarter_date\",quarter(\"Date\"))\n",
    "\n",
    "df_trips_fixed.printSchema()\n",
    "df_trips_fixed.describe().show()"
   ]
  },
  {
   "cell_type": "code",
   "execution_count": 55,
   "metadata": {},
   "outputs": [
    {
     "name": "stdout",
     "output_type": "stream",
     "text": [
      "+------------+\n",
      "|   age_range|\n",
      "+------------+\n",
      "|    sin_edad|\n",
      "|     jovenes|\n",
      "|      adulto|\n",
      "|adulto_mayor|\n",
      "+------------+\n",
      "\n"
     ]
    }
   ],
   "source": [
    "df_trips_fixed= df_trips_fixed.withColumn(\"age_range\", when((col(\"age\") <= 25) & (col(\"age\") >= 1), \"jovenes\").\\\n",
    "                                  otherwise(when((col(\"age\") <= 45) & (col(\"age\") >= 26), \"adulto\").\\\n",
    "                                  otherwise(when((col(\"age\") <= 100) & (col(\"age\") >= 46), \"adulto_mayor\").\\\n",
    "                                  otherwise(\"sin_edad\"))))\n",
    "\n",
    "df_trips_fixed.select(\"age_range\").distinct().show()"
   ]
  },
  {
   "cell_type": "code",
   "execution_count": 56,
   "metadata": {},
   "outputs": [
    {
     "name": "stdout",
     "output_type": "stream",
     "text": [
      "+-------------------+-------------------+---------------------+---------------------+\n",
      "|           stoptime|          starttime|trip_duration_seconds|trip_duration_minutes|\n",
      "+-------------------+-------------------+---------------------+---------------------+\n",
      "|2016-04-18 22:15:00|2016-04-18 21:36:00|                 2340|                 39.0|\n",
      "|2015-06-07 21:45:00|2015-06-07 21:22:00|                 1380|                 23.0|\n",
      "|2016-07-18 17:14:00|2016-07-18 17:06:00|                  480|                  8.0|\n",
      "|2015-07-20 16:10:00|2015-07-20 14:13:00|                 7020|                117.0|\n",
      "|2015-06-10 16:33:00|2015-06-10 16:02:00|                 1860|                 31.0|\n",
      "+-------------------+-------------------+---------------------+---------------------+\n",
      "only showing top 5 rows\n",
      "\n",
      "root\n",
      " |-- trip_id: integer (nullable = true)\n",
      " |-- starttime: timestamp (nullable = true)\n",
      " |-- stoptime: timestamp (nullable = true)\n",
      " |-- bikeid: string (nullable = true)\n",
      " |-- from_station_name: string (nullable = true)\n",
      " |-- to_station_name: string (nullable = true)\n",
      " |-- from_station_id: string (nullable = true)\n",
      " |-- to_station_id: string (nullable = true)\n",
      " |-- usertype: string (nullable = true)\n",
      " |-- gender: string (nullable = true)\n",
      " |-- birthyear: integer (nullable = true)\n",
      " |-- Date: date (nullable = true)\n",
      " |-- age: integer (nullable = true)\n",
      " |-- quarter_date: integer (nullable = true)\n",
      " |-- age_range: string (nullable = false)\n",
      " |-- trip_duration_seconds: long (nullable = true)\n",
      " |-- trip_duration_minutes: double (nullable = true)\n",
      "\n"
     ]
    }
   ],
   "source": [
    "#En caso de querer recalcular los segundos y luego en base a ello los minutos. Aun asi habiendo revisado no hay gran diferencia entre los segundos calculados y los segundos de tripduration\n",
    "\n",
    "#Generacion de columna de duracion de viaje en segundos y luego en minutos\n",
    "#from pyspark.sql.types import LongType\n",
    "df_trips_fixed=df_trips_fixed.withColumn('trip_duration_seconds',unix_timestamp(\"stoptime\") - unix_timestamp('starttime')) \\\n",
    "                             .withColumn('trip_duration_minutes',round(col('trip_duration_seconds')/60))\n",
    "\n",
    "#Se eliminara tripduration al ser de tipo interval y no poder guardarlo con parque pero se crea un nuevo calculo\n",
    "df_trips_fixed=df_trips_fixed.drop(col(\"tripduration\"))\n",
    "\n",
    "df_trips_fixed.select('stoptime','starttime','trip_duration_seconds','trip_duration_minutes').show(5)\n",
    "df_trips_fixed.printSchema()"
   ]
  },
  {
   "cell_type": "markdown",
   "metadata": {},
   "source": [
    "# FIN DE TRABAJO EN DATEFRAME DE TRIPS\n",
    "\n",
    "#DATAFRAMES FINALES\n",
    "#df_stations_fixed\n",
    "#df_weather_fixed\n",
    "#df_trips_fixed"
   ]
  },
  {
   "cell_type": "code",
   "execution_count": 57,
   "metadata": {},
   "outputs": [
    {
     "name": "stdout",
     "output_type": "stream",
     "text": [
      "Dataframe Stations Schema\n",
      "root\n",
      " |-- station_id: string (nullable = true)\n",
      " |-- name: string (nullable = true)\n",
      " |-- lat: double (nullable = true)\n",
      " |-- long: double (nullable = true)\n",
      " |-- install_date: date (nullable = true)\n",
      " |-- install_dockcount: integer (nullable = true)\n",
      " |-- modification_date: date (nullable = true)\n",
      " |-- current_dockcount: integer (nullable = true)\n",
      " |-- decommission_date: date (nullable = true)\n",
      " |-- quarter_install_date: integer (nullable = true)\n",
      "\n",
      "Dataframe Weather Schema\n",
      "root\n",
      " |-- Date: date (nullable = true)\n",
      " |-- Max_Temperature_F: integer (nullable = true)\n",
      " |-- Mean_Temperature_F: double (nullable = true)\n",
      " |-- Min_TemperatureF: integer (nullable = true)\n",
      " |-- Max_Dew_Point_F: integer (nullable = true)\n",
      " |-- MeanDew_Point_F: integer (nullable = true)\n",
      " |-- Min_Dewpoint_F: integer (nullable = true)\n",
      " |-- Max_Humidity: integer (nullable = true)\n",
      " |-- Mean_Humidity: integer (nullable = true)\n",
      " |-- Min_Humidity: integer (nullable = true)\n",
      " |-- Max_Sea_Level_Pressure_In: double (nullable = true)\n",
      " |-- Mean_Sea_Level_Pressure_In: double (nullable = true)\n",
      " |-- Min_Sea_Level_Pressure_In: double (nullable = true)\n",
      " |-- Max_Visibility_Miles: integer (nullable = true)\n",
      " |-- Mean_Visibility_Miles: integer (nullable = true)\n",
      " |-- Min_Visibility_Miles: integer (nullable = true)\n",
      " |-- Max_Wind_Speed_MPH: integer (nullable = true)\n",
      " |-- Mean_Wind_Speed_MPH: integer (nullable = true)\n",
      " |-- Max_Gust_Speed_MPH: integer (nullable = true)\n",
      " |-- Precipitation_In: double (nullable = true)\n",
      " |-- Events: string (nullable = false)\n",
      " |-- temporada: string (nullable = false)\n",
      "\n",
      "Dataframe Trips Schema\n",
      "root\n",
      " |-- trip_id: integer (nullable = true)\n",
      " |-- starttime: timestamp (nullable = true)\n",
      " |-- stoptime: timestamp (nullable = true)\n",
      " |-- bikeid: string (nullable = true)\n",
      " |-- from_station_name: string (nullable = true)\n",
      " |-- to_station_name: string (nullable = true)\n",
      " |-- from_station_id: string (nullable = true)\n",
      " |-- to_station_id: string (nullable = true)\n",
      " |-- usertype: string (nullable = true)\n",
      " |-- gender: string (nullable = true)\n",
      " |-- birthyear: integer (nullable = true)\n",
      " |-- Date: date (nullable = true)\n",
      " |-- age: integer (nullable = true)\n",
      " |-- quarter_date: integer (nullable = true)\n",
      " |-- age_range: string (nullable = false)\n",
      " |-- trip_duration_seconds: long (nullable = true)\n",
      " |-- trip_duration_minutes: double (nullable = true)\n",
      "\n"
     ]
    }
   ],
   "source": [
    "print (\"Dataframe Stations Schema\")\n",
    "df_stations_fixed.printSchema()\n",
    "print (\"Dataframe Weather Schema\")\n",
    "df_weather_fixed.printSchema()\n",
    "print (\"Dataframe Trips Schema\")\n",
    "df_trips_fixed.printSchema()"
   ]
  },
  {
   "cell_type": "code",
   "execution_count": 58,
   "metadata": {},
   "outputs": [
    {
     "name": "stdout",
     "output_type": "stream",
     "text": [
      "+-------+------------------+--------+--------------------+--------------------+---------------+-------------+--------------------+------+------------------+------------------+------------------+---------+---------------------+---------------------+------------------+------------------+------------------+------------------+------------------+------------------+-----------------+------------------+------------------+-------------------------+--------------------------+-------------------------+--------------------+---------------------+--------------------+------------------+-------------------+------------------+-------------------+------+---------+\n",
      "|summary|           trip_id|  bikeid|   from_station_name|     to_station_name|from_station_id|to_station_id|            usertype|gender|         birthyear|               age|      quarter_date|age_range|trip_duration_seconds|trip_duration_minutes| Max_Temperature_F|Mean_Temperature_F|  Min_TemperatureF|   Max_Dew_Point_F|   MeanDew_Point_F|    Min_Dewpoint_F|     Max_Humidity|     Mean_Humidity|      Min_Humidity|Max_Sea_Level_Pressure_In|Mean_Sea_Level_Pressure_In|Min_Sea_Level_Pressure_In|Max_Visibility_Miles|Mean_Visibility_Miles|Min_Visibility_Miles|Max_Wind_Speed_MPH|Mean_Wind_Speed_MPH|Max_Gust_Speed_MPH|   Precipitation_In|Events|temporada|\n",
      "+-------+------------------+--------+--------------------+--------------------+---------------+-------------+--------------------+------+------------------+------------------+------------------+---------+---------------------+---------------------+------------------+------------------+------------------+------------------+------------------+------------------+-----------------+------------------+------------------+-------------------------+--------------------------+-------------------------+--------------------+---------------------+--------------------+------------------+-------------------+------------------+-------------------+------+---------+\n",
      "|  count|            236058|  236058|              236058|              236058|         236058|       236058|              236058|146169|            146165|            146165|            236058|   236058|               236058|               236058|            236058|            236058|            236058|            236058|            236058|            236058|           236058|            236058|            236058|                   236058|                    236058|                   236058|              236058|               236058|              236058|            236058|             236058|            236058|             236058|236058|   236058|\n",
      "|   mean|130063.46909234171|    null|                null|                null|           null|         null|                null|  null|  1979.87964286936| 35.32662402079841| 2.498936701996967|     null|   1202.5036219912056|    20.04172703318676| 68.43921832769912| 60.09651865219565|52.185818739462334|50.037325572528786|46.634568622965546|42.455443153801184|82.00052529463098| 64.60996026400291| 45.34505079260182|        30.11635026137642|         30.04177422497861|        29.95861076515096|   9.996827050978997|    9.622558862652399|   7.940946716484932|  10.6268417083937| 4.3005617263553875| 7.981652814138898|0.05829486821035508|  null|     null|\n",
      "| stddev| 72840.36964235042|    null|                null|                null|           null|         null|                null|  null|10.155011011029076|10.155851429752447|0.9850813464483388|     null|    2066.589187484962|    34.44315312474937|12.184502880373282|10.086868762621535|  9.03872657425583| 6.896995390186514| 7.286168043574187| 8.348980613429251|9.813312208070482|12.549910990681798|15.019315088648156|       0.1619104143081616|       0.16829188923696464|      0.18438607152155012| 0.14899889123431015|   0.9614168198977276|   3.035547564553858|3.3216659709159027| 2.4337558379347253|10.780643527510236| 0.1597302344974763|  null|     null|\n",
      "|    min|               431|SEA00001|12th Ave & E Denn...|12th Ave & E Denn...|      8D OPS 02|    8D OPS 02|              Member|Female|              1931|                16|                 1|   adulto|                   60|                  1.0|                39|              33.0|                23|                10|                 4|                 1|               40|                24|                15|                    29.47|                     29.31|                    29.14|                   3|                    1|                   0|                 4|                  0|                 0|                0.0|   Fog| invierno|\n",
      "|    max|            255245|SEA99997|Westlake Ave & 6t...|Westlake Ave & 6t...|          WF-04|        WF-04|Short-Term Pass H...| Other|              1999|                85|                 4| sin_edad|                28800|                480.0|                98|              83.0|                70|                77|                59|                57|              100|                95|                87|                    30.86|                     30.81|                    30.75|                  10|                   10|                  10|                30|                 23|                52|                2.2|  Snow|   verano|\n",
      "+-------+------------------+--------+--------------------+--------------------+---------------+-------------+--------------------+------+------------------+------------------+------------------+---------+---------------------+---------------------+------------------+------------------+------------------+------------------+------------------+------------------+-----------------+------------------+------------------+-------------------------+--------------------------+-------------------------+--------------------+---------------------+--------------------+------------------+-------------------+------------------+-------------------+------+---------+\n",
      "\n"
     ]
    }
   ],
   "source": [
    "#Joins, join por defecto usado, inner join\n",
    "df_trips_weather = df_trips_fixed.join (df_weather_fixed,\"Date\")\n",
    "df_trips_weather.describe().show()\n"
   ]
  },
  {
   "cell_type": "markdown",
   "metadata": {},
   "source": [
    "# Guardar df_trips_weather\n",
    "#se utiliza el directorio que se desprende de las credenciales al ingresar los datos csv"
   ]
  },
  {
   "cell_type": "code",
   "execution_count": 59,
   "metadata": {},
   "outputs": [],
   "source": [
    "df_trips_weather.write.mode(\"overwrite\").parquet(cos.url('trips_weather', 'tallerdadatasciencecamiloferreira-donotdelete-pr-fz0ndvhao4eorr'))"
   ]
  },
  {
   "cell_type": "code",
   "execution_count": 60,
   "metadata": {},
   "outputs": [
    {
     "name": "stdout",
     "output_type": "stream",
     "text": [
      "+-------+-----------------+--------+--------------------+--------------------+---------------+-------------+--------------------+------+------------------+------------------+------------------+---------+---------------------+---------------------+----------+--------------------+--------------------+--------------------+------------------+------------------+--------------------+\n",
      "|summary|          trip_id|  bikeid|   from_station_name|     to_station_name|from_station_id|to_station_id|            usertype|gender|         birthyear|               age|      quarter_date|age_range|trip_duration_seconds|trip_duration_minutes|station_id|                name|                 lat|                long| install_dockcount| current_dockcount|quarter_install_date|\n",
      "+-------+-----------------+--------+--------------------+--------------------+---------------+-------------+--------------------+------+------------------+------------------+------------------+---------+---------------------+---------------------+----------+--------------------+--------------------+--------------------+------------------+------------------+--------------------+\n",
      "|  count|           236053|  236053|              236053|              236053|         236053|       236053|              236053|146166|            146162|            146162|            236053|   236053|               236053|               236053|    236053|              236053|              236053|              236053|            236053|            236053|              236053|\n",
      "|   mean|130061.9965431492|    null|                null|                null|           null|         null|                null|  null| 1979.879407780408| 35.32684965996634|2.4989387976429023|     null|     1202.52553451979|     20.0420922419965|      null|                null|  47.620418972344304| -122.33095912741746|17.582297195968703|17.589126170817572|  3.9384672086353487|\n",
      "| stddev|72839.91273323158|    null|                null|                null|           null|         null|                null|  null|10.154979728502182|10.155829263215269|0.9850890937544869|     null|   2066.6054982425962|    34.44342497070994|      null|                null|0.014335035176122075|0.013894158110386272| 2.983593278120739| 4.085179060284032| 0.34158881450300654|\n",
      "|    min|              431|SEA00001|12th Ave & E Denn...|12th Ave & E Denn...|          BT-01|        BT-01|              Member|Female|              1931|                16|                 1|   adulto|                   60|                  1.0|     BT-01|12th Ave & E Denn...|           47.598488|          -122.35523|                12|                 0|                   1|\n",
      "|    max|           255245|SEA00500|Westlake Ave & 6t...|Westlake Ave & 6t...|          WF-04|        WF-04|Short-Term Pass H...| Other|              1999|                85|                 4| sin_edad|                28800|                480.0|     WF-04|Westlake Ave & 6t...|           47.666145|         -122.284119|                30|                26|                   4|\n",
      "+-------+-----------------+--------+--------------------+--------------------+---------------+-------------+--------------------+------+------------------+------------------+------------------+---------+---------------------+---------------------+----------+--------------------+--------------------+--------------------+------------------+------------------+--------------------+\n",
      "\n"
     ]
    }
   ],
   "source": [
    "df_trips_from_station = df_trips_fixed.join (df_stations_fixed, df_stations_fixed.station_id == df_trips_fixed.from_station_id, \"inner\")\n",
    "df_trips_from_station.describe().show()"
   ]
  },
  {
   "cell_type": "code",
   "execution_count": 61,
   "metadata": {},
   "outputs": [
    {
     "name": "stdout",
     "output_type": "stream",
     "text": [
      "+-------+-------------------+-------------------+--------+--------------------+--------------------+---------------+-------------+--------------------+------+---------+----------+----+------------+------------+---------------------+---------------------+----------+--------------------+---------+-----------+------------+-----------------+-----------------+-----------------+-----------------+--------------------+\n",
      "|trip_id|          starttime|           stoptime|  bikeid|   from_station_name|     to_station_name|from_station_id|to_station_id|            usertype|gender|birthyear|      Date| age|quarter_date|   age_range|trip_duration_seconds|trip_duration_minutes|station_id|                name|      lat|       long|install_date|install_dockcount|modification_date|current_dockcount|decommission_date|quarter_install_date|\n",
      "+-------+-------------------+-------------------+--------+--------------------+--------------------+---------------+-------------+--------------------+------+---------+----------+----+------------+------------+---------------------+---------------------+----------+--------------------+---------+-----------+------------+-----------------+-----------------+-----------------+-----------------+--------------------+\n",
      "| 215306|2016-05-31 17:38:00|2016-05-31 17:50:00|SEA00254|  Union St & 4th Ave|Dexter Ave N & Al...|         CBD-04|       SLU-02|              Member|  Male|     1967|2016-05-31|  49|           2|adulto_mayor|                  720|                 12.0|    CBD-04|  Union St & 4th Ave|47.609221|-122.335596|  2015-07-27|               18|             null|               18|             null|                   3|\n",
      "| 200538|2016-04-18 21:36:00|2016-04-18 22:15:00|SEA00185|12th Ave & NE Cam...|12th Ave & NE Cam...|          UD-04|        UD-04|Short-Term Pass H...|  null|     null|2016-04-18|null|           2|    sin_edad|                 2340|                 39.0|     UD-04|12th Ave & NE Cam...|47.656395| -122.31562|  2014-10-13|               16|             null|               16|             null|                   4|\n",
      "|  86544|2015-06-07 21:22:00|2015-06-07 21:45:00|SEA00041|Pier 69 / Alaskan...|Pier 69 / Alaskan...|          WF-01|        WF-01|              Member|  Male|     1981|2015-06-07|  34|           2|      adulto|                 1380|                 23.0|     WF-01|Pier 69 / Alaskan...|47.614315|-122.354093|  2014-10-13|               18|             null|               24|             null|                   4|\n",
      "| 249265|2016-08-17 18:50:00|2016-08-17 19:19:00|SEA00136|Lake Union Park /...|Seattle Aquarium ...|         SLU-17|        WF-04|              Member|  Male|     1990|2016-08-17|  26|           3|      adulto|                 1740|                 29.0|    SLU-17|Lake Union Park /...|47.626041|-122.335831|  2014-10-13|               18|       2015-02-23|               16|             null|                   4|\n",
      "| 235640|2016-07-18 17:06:00|2016-07-18 17:14:00|SEA00457|Westlake Ave & 6t...| 1st Ave & Marion St|         SLU-15|       CBD-05|              Member|  Male|     1996|2016-07-18|  20|           3|     jovenes|                  480|                  8.0|    SLU-15|Westlake Ave & 6t...|47.613628|-122.337341|  2014-10-13|               12|       2015-03-13|               20|             null|                   4|\n",
      "+-------+-------------------+-------------------+--------+--------------------+--------------------+---------------+-------------+--------------------+------+---------+----------+----+------------+------------+---------------------+---------------------+----------+--------------------+---------+-----------+------------+-----------------+-----------------+-----------------+-----------------+--------------------+\n",
      "only showing top 5 rows\n",
      "\n"
     ]
    }
   ],
   "source": [
    "df_trips_from_station.show(5)"
   ]
  },
  {
   "cell_type": "code",
   "execution_count": 62,
   "metadata": {},
   "outputs": [
    {
     "name": "stdout",
     "output_type": "stream",
     "text": [
      "+-------+------------------+--------+--------------------+--------------------+---------------+-------------+--------------------+------+------------------+------------------+------------------+---------+---------------------+---------------------+----------+--------------------+--------------------+--------------------+------------------+------------------+--------------------+\n",
      "|summary|           trip_id|  bikeid|   from_station_name|     to_station_name|from_station_id|to_station_id|            usertype|gender|         birthyear|               age|      quarter_date|age_range|trip_duration_seconds|trip_duration_minutes|station_id|                name|                 lat|                long| install_dockcount| current_dockcount|quarter_install_date|\n",
      "+-------+------------------+--------+--------------------+--------------------+---------------+-------------+--------------------+------+------------------+------------------+------------------+---------+---------------------+---------------------+----------+--------------------+--------------------+--------------------+------------------+------------------+--------------------+\n",
      "|  count|            236038|  236038|              236038|              236038|         236038|       236038|              236038|146155|            146151|            146151|            236038|   236038|               236038|               236038|    236038|              236038|              236038|              236038|            236038|            236038|              236038|\n",
      "|   mean|130063.17381099654|    null|                null|                null|           null|         null|                null|  null|1979.8801924037468|35.326080560516175| 2.498945085113414|     null|    1202.556198578195|   20.042603309636583|      null|                null|   47.61972703448923|    -122.33318700626|17.658131317838652|17.864615019615485|  3.9456782382497733|\n",
      "| stddev|  72840.4809665981|    null|                null|                null|           null|         null|                null|  null|10.153833582852148| 10.15469905794474|0.9850951344974828|     null|   2066.6632214262163|    34.44438702377029|      null|                null|0.015255228694389533|0.012956623005799018|2.7952866991126006|3.5903995526888255| 0.30537581707517036|\n",
      "|    min|               431|SEA00001|12th Ave & E Denn...|12th Ave & E Denn...|          BT-01|        BT-01|              Member|Female|              1931|                16|                 1|   adulto|                   60|                  1.0|     BT-01|12th Ave & E Denn...|           47.598488|          -122.35523|                12|                 0|                   1|\n",
      "|    max|            255245|SEA00500|Westlake Ave & 6t...|Westlake Ave & 6t...|          WF-04|        WF-04|Short-Term Pass H...| Other|              1999|                85|                 4| sin_edad|                28800|                480.0|     WF-04|Westlake Ave & 6t...|           47.666145|         -122.284119|                30|                26|                   4|\n",
      "+-------+------------------+--------+--------------------+--------------------+---------------+-------------+--------------------+------+------------------+------------------+------------------+---------+---------------------+---------------------+----------+--------------------+--------------------+--------------------+------------------+------------------+--------------------+\n",
      "\n"
     ]
    }
   ],
   "source": [
    "df_trips_to_station = df_trips_fixed.join (df_stations_fixed, df_stations_fixed.station_id == df_trips_fixed.to_station_id, \"inner\")\n",
    "\n",
    "df_trips_to_station.describe().show()"
   ]
  },
  {
   "cell_type": "code",
   "execution_count": 63,
   "metadata": {},
   "outputs": [],
   "source": [
    "#Guardo los dos nuevos joins creados y los dataframe fix finales\n",
    "#df_trips_to_station\n",
    "#df_trips_from_station\n",
    "#df_stations_fixed\n",
    "#df_weather_fixed\n",
    "#df_trips_fixed\n",
    "\n",
    "df_trips_to_station.write.mode(\"overwrite\").parquet(cos.url('trips_to_station', 'tallerdadatasciencecamiloferreira-donotdelete-pr-fz0ndvhao4eorr'))\n",
    "df_trips_from_station.write.mode(\"overwrite\").parquet(cos.url('trips_from_station', 'tallerdadatasciencecamiloferreira-donotdelete-pr-fz0ndvhao4eorr'))\n",
    "df_stations_fixed.write.mode(\"overwrite\").parquet(cos.url('stations_fixed', 'tallerdadatasciencecamiloferreira-donotdelete-pr-fz0ndvhao4eorr'))\n",
    "df_weather_fixed.write.mode(\"overwrite\").parquet(cos.url('weather_fixed', 'tallerdadatasciencecamiloferreira-donotdelete-pr-fz0ndvhao4eorr'))\n",
    "df_trips_fixed.write.mode(\"overwrite\").parquet(cos.url('trips_fixed', 'tallerdadatasciencecamiloferreira-donotdelete-pr-fz0ndvhao4eorr'))"
   ]
  },
  {
   "cell_type": "code",
   "execution_count": 64,
   "metadata": {},
   "outputs": [
    {
     "name": "stdout",
     "output_type": "stream",
     "text": [
      "Joins guardados\n",
      "trips_weather\n",
      "trips_to_station\n",
      "trips_from_station\n",
      "Dataframes limpio y modificados\n",
      "stations_fixed\n",
      "weather_fixed\n",
      "trips_fixed\n"
     ]
    }
   ],
   "source": [
    "print(\"Joins guardados\\ntrips_weather\\ntrips_to_station\\ntrips_from_station\")\n",
    "\n",
    "print(\"Dataframes limpio y modificados\\nstations_fixed\\nweather_fixed\\ntrips_fixed\")"
   ]
  }
 ],
 "metadata": {
  "kernelspec": {
   "display_name": "Python 3.7 with Spark",
   "language": "python3",
   "name": "python37"
  },
  "language_info": {
   "codemirror_mode": {
    "name": "ipython",
    "version": 3
   },
   "file_extension": ".py",
   "mimetype": "text/x-python",
   "name": "python",
   "nbconvert_exporter": "python",
   "pygments_lexer": "ipython3",
   "version": "3.7.10"
  }
 },
 "nbformat": 4,
 "nbformat_minor": 1
}
