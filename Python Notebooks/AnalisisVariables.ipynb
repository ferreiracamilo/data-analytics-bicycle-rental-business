{
 "cells": [
  {
   "cell_type": "code",
   "execution_count": 1,
   "metadata": {},
   "outputs": [
    {
     "name": "stdout",
     "output_type": "stream",
     "text": [
      "Waiting for a Spark session to start...\n",
      "Spark Initialization Done! ApplicationId = app-20210411235427-0005\n",
      "KERNEL_ID = 2b209fc7-f100-4785-b41f-4254da8e878b\n"
     ]
    }
   ],
   "source": [
    "from pyspark.sql.functions import *"
   ]
  },
  {
   "cell_type": "code",
   "execution_count": 2,
   "metadata": {},
   "outputs": [],
   "source": [
    "import ibmos2spark, os\n",
    "# @hidden_cell\n",
    "\n",
    "if os.environ.get('RUNTIME_ENV_LOCATION_TYPE') == 'external':\n",
    "    endpoint_5fc9833f13ed4170a3d793ba6b80e11a = 'https://s3-api.us-geo.objectstorage.softlayer.net'\n",
    "else:\n",
    "    endpoint_5fc9833f13ed4170a3d793ba6b80e11a = 'https://s3-api.us-geo.objectstorage.service.networklayer.com'\n",
    "\n",
    "credentials = {\n",
    "    'endpoint': endpoint_5fc9833f13ed4170a3d793ba6b80e11a,\n",
    "    'service_id': 'iam-ServiceId-a9f1577d-5270-4858-8b14-345ee4bfb744',\n",
    "    'iam_service_endpoint': 'https://iam.cloud.ibm.com/oidc/token',\n",
    "    'api_key': 'SZLYLSD_wZpkWnqiF6AzCgVrL9lm-JCubzDrqmhf30Za'\n",
    "}\n",
    "\n",
    "configuration_name = 'os_5fc9833f13ed4170a3d793ba6b80e11a_configs'\n",
    "cos = ibmos2spark.CloudObjectStorage(sc, credentials, configuration_name, 'bluemix_cos')\n",
    "\n",
    "from pyspark.sql import SparkSession\n",
    "spark = SparkSession.builder.getOrCreate()"
   ]
  },
  {
   "cell_type": "markdown",
   "metadata": {},
   "source": [
    "# Carga y tipos de datos"
   ]
  },
  {
   "cell_type": "code",
   "execution_count": 3,
   "metadata": {},
   "outputs": [
    {
     "name": "stdout",
     "output_type": "stream",
     "text": [
      "*** ¿Cuáles son numéricas? ¿Cuáles son categóricas? ¿Existe otro tipo de información? ***\n",
      "\n",
      "*** Joins Guardados ***\n",
      "\n",
      "Schema Join Trips-Weather\n",
      "root\n",
      " |-- Date: date (nullable = true)\n",
      " |-- trip_id: integer (nullable = true)\n",
      " |-- starttime: timestamp (nullable = true)\n",
      " |-- stoptime: timestamp (nullable = true)\n",
      " |-- bikeid: string (nullable = true)\n",
      " |-- from_station_name: string (nullable = true)\n",
      " |-- to_station_name: string (nullable = true)\n",
      " |-- from_station_id: string (nullable = true)\n",
      " |-- to_station_id: string (nullable = true)\n",
      " |-- usertype: string (nullable = true)\n",
      " |-- gender: string (nullable = true)\n",
      " |-- birthyear: integer (nullable = true)\n",
      " |-- age: integer (nullable = true)\n",
      " |-- quarter_date: integer (nullable = true)\n",
      " |-- age_range: string (nullable = true)\n",
      " |-- trip_duration_seconds: long (nullable = true)\n",
      " |-- trip_duration_minutes: double (nullable = true)\n",
      " |-- Max_Temperature_F: integer (nullable = true)\n",
      " |-- Mean_Temperature_F: double (nullable = true)\n",
      " |-- Min_TemperatureF: integer (nullable = true)\n",
      " |-- Max_Dew_Point_F: integer (nullable = true)\n",
      " |-- MeanDew_Point_F: integer (nullable = true)\n",
      " |-- Min_Dewpoint_F: integer (nullable = true)\n",
      " |-- Max_Humidity: integer (nullable = true)\n",
      " |-- Mean_Humidity: integer (nullable = true)\n",
      " |-- Min_Humidity: integer (nullable = true)\n",
      " |-- Max_Sea_Level_Pressure_In: double (nullable = true)\n",
      " |-- Mean_Sea_Level_Pressure_In: double (nullable = true)\n",
      " |-- Min_Sea_Level_Pressure_In: double (nullable = true)\n",
      " |-- Max_Visibility_Miles: integer (nullable = true)\n",
      " |-- Mean_Visibility_Miles: integer (nullable = true)\n",
      " |-- Min_Visibility_Miles: integer (nullable = true)\n",
      " |-- Max_Wind_Speed_MPH: integer (nullable = true)\n",
      " |-- Mean_Wind_Speed_MPH: integer (nullable = true)\n",
      " |-- Max_Gust_Speed_MPH: integer (nullable = true)\n",
      " |-- Precipitation_In: double (nullable = true)\n",
      " |-- Events: string (nullable = true)\n",
      " |-- temporada: string (nullable = true)\n",
      "\n",
      "Describe Join Trips-Weather\n",
      "+-------+------------------+--------+--------------------+--------------------+---------------+-------------+--------------------+------+------------------+------------------+------------------+---------+---------------------+---------------------+------------------+------------------+------------------+------------------+------------------+------------------+-----------------+-----------------+------------------+-------------------------+--------------------------+-------------------------+--------------------+---------------------+--------------------+------------------+-------------------+------------------+-------------------+------+---------+\n",
      "|summary|           trip_id|  bikeid|   from_station_name|     to_station_name|from_station_id|to_station_id|            usertype|gender|         birthyear|               age|      quarter_date|age_range|trip_duration_seconds|trip_duration_minutes| Max_Temperature_F|Mean_Temperature_F|  Min_TemperatureF|   Max_Dew_Point_F|   MeanDew_Point_F|    Min_Dewpoint_F|     Max_Humidity|    Mean_Humidity|      Min_Humidity|Max_Sea_Level_Pressure_In|Mean_Sea_Level_Pressure_In|Min_Sea_Level_Pressure_In|Max_Visibility_Miles|Mean_Visibility_Miles|Min_Visibility_Miles|Max_Wind_Speed_MPH|Mean_Wind_Speed_MPH|Max_Gust_Speed_MPH|   Precipitation_In|Events|temporada|\n",
      "+-------+------------------+--------+--------------------+--------------------+---------------+-------------+--------------------+------+------------------+------------------+------------------+---------+---------------------+---------------------+------------------+------------------+------------------+------------------+------------------+------------------+-----------------+-----------------+------------------+-------------------------+--------------------------+-------------------------+--------------------+---------------------+--------------------+------------------+-------------------+------------------+-------------------+------+---------+\n",
      "|  count|            236058|  236058|              236058|              236058|         236058|       236058|              236058|146169|            146165|            146165|            236058|   236058|               236058|               236058|            236058|            236058|            236058|            236058|            236058|            236058|           236058|           236058|            236058|                   236058|                    236058|                   236058|              236058|               236058|              236058|            236058|             236058|            236058|             236058|236058|   236058|\n",
      "|   mean|130063.46909234171|    null|                null|                null|           null|         null|                null|  null|  1979.87964286936| 35.32662402079841| 2.498936701996967|     null|   1202.5036219912056|    20.04172703318676| 68.43921832769912| 60.09651865219565|52.185818739462334|50.037325572528786|46.634568622965546|42.455443153801184|82.00052529463098|64.60996026400291| 45.34505079260182|       30.116350261376578|        30.041774224979033|       29.958610765150855|   9.996827050978997|    9.622558862652399|   7.940946716484932|  10.6268417083937| 4.3005617263553875| 7.981652814138898|0.05829486821035339|  null|     null|\n",
      "| stddev| 72840.36964235037|    null|                null|                null|           null|         null|                null|  null|10.155011011029064|10.155851429752444|0.9850813464483387|     null|    2066.589187484963|    34.44315312474931|12.184502880373293|10.086868762621542| 9.038726574255826| 6.896995390186508| 7.286168043574182| 8.348980613429251|9.813312208070474|12.54991099068177|15.019315088648177|       0.1619104143081611|        0.1682918892369647|      0.18438607152155048| 0.14899889123430984|   0.9614168198977276|  3.0355475645538563|3.3216659709159004| 2.4337558379347226|10.780643527510241| 0.1597302344974763|  null|     null|\n",
      "|    min|               431|SEA00001|12th Ave & E Denn...|12th Ave & E Denn...|      8D OPS 02|    8D OPS 02|              Member|Female|              1931|                16|                 1|   adulto|                   60|                  1.0|                39|              33.0|                23|                10|                 4|                 1|               40|               24|                15|                    29.47|                     29.31|                    29.14|                   3|                    1|                   0|                 4|                  0|                 0|                0.0|   Fog| invierno|\n",
      "|    max|            255245|SEA99997|Westlake Ave & 6t...|Westlake Ave & 6t...|          WF-04|        WF-04|Short-Term Pass H...| Other|              1999|                85|                 4| sin_edad|                28800|                480.0|                98|              83.0|                70|                77|                59|                57|              100|               95|                87|                    30.86|                     30.81|                    30.75|                  10|                   10|                  10|                30|                 23|                52|                2.2|  Snow|   verano|\n",
      "+-------+------------------+--------+--------------------+--------------------+---------------+-------------+--------------------+------+------------------+------------------+------------------+---------+---------------------+---------------------+------------------+------------------+------------------+------------------+------------------+------------------+-----------------+-----------------+------------------+-------------------------+--------------------------+-------------------------+--------------------+---------------------+--------------------+------------------+-------------------+------------------+-------------------+------+---------+\n",
      "\n",
      "\n",
      "\n",
      "Schema Join Trips-ToStation\n",
      "root\n",
      " |-- trip_id: integer (nullable = true)\n",
      " |-- starttime: timestamp (nullable = true)\n",
      " |-- stoptime: timestamp (nullable = true)\n",
      " |-- bikeid: string (nullable = true)\n",
      " |-- from_station_name: string (nullable = true)\n",
      " |-- to_station_name: string (nullable = true)\n",
      " |-- from_station_id: string (nullable = true)\n",
      " |-- to_station_id: string (nullable = true)\n",
      " |-- usertype: string (nullable = true)\n",
      " |-- gender: string (nullable = true)\n",
      " |-- birthyear: integer (nullable = true)\n",
      " |-- Date: date (nullable = true)\n",
      " |-- age: integer (nullable = true)\n",
      " |-- quarter_date: integer (nullable = true)\n",
      " |-- age_range: string (nullable = true)\n",
      " |-- trip_duration_seconds: long (nullable = true)\n",
      " |-- trip_duration_minutes: double (nullable = true)\n",
      " |-- station_id: string (nullable = true)\n",
      " |-- name: string (nullable = true)\n",
      " |-- lat: double (nullable = true)\n",
      " |-- long: double (nullable = true)\n",
      " |-- install_date: date (nullable = true)\n",
      " |-- install_dockcount: integer (nullable = true)\n",
      " |-- modification_date: date (nullable = true)\n",
      " |-- current_dockcount: integer (nullable = true)\n",
      " |-- decommission_date: date (nullable = true)\n",
      " |-- quarter_install_date: integer (nullable = true)\n",
      "\n",
      "Describe Join Trips-ToStation\n",
      "+-------+------------------+--------+--------------------+--------------------+---------------+-------------+--------------------+------+------------------+------------------+-----------------+---------+---------------------+---------------------+----------+--------------------+-------------------+--------------------+------------------+------------------+--------------------+\n",
      "|summary|           trip_id|  bikeid|   from_station_name|     to_station_name|from_station_id|to_station_id|            usertype|gender|         birthyear|               age|     quarter_date|age_range|trip_duration_seconds|trip_duration_minutes|station_id|                name|                lat|                long| install_dockcount| current_dockcount|quarter_install_date|\n",
      "+-------+------------------+--------+--------------------+--------------------+---------------+-------------+--------------------+------+------------------+------------------+-----------------+---------+---------------------+---------------------+----------+--------------------+-------------------+--------------------+------------------+------------------+--------------------+\n",
      "|  count|            236038|  236038|              236038|              236038|         236038|       236038|              236038|146155|            146151|            146151|           236038|   236038|               236038|               236038|    236038|              236038|             236038|              236038|            236038|            236038|              236038|\n",
      "|   mean|130063.17381099654|    null|                null|                null|           null|         null|                null|  null|1979.8801924037468|35.326080560516175|2.498945085113414|     null|    1202.556198578195|   20.042603309636583|      null|                null| 47.619727034489635| -122.33318700626704|17.658131317838652|17.864615019615485|  3.9456782382497733|\n",
      "| stddev| 72840.48096659812|    null|                null|                null|           null|         null|                null|  null|10.153833582852155| 10.15469905794474| 0.98509513449748|     null|   2066.6632214262136|    34.44438702377028|      null|                null|0.01525522869438933|0.012956623005799422|2.7952866991126037|3.5903995526888273|  0.3053758170751707|\n",
      "|    min|               431|SEA00001|12th Ave & E Denn...|12th Ave & E Denn...|          BT-01|        BT-01|              Member|Female|              1931|                16|                1|   adulto|                   60|                  1.0|     BT-01|12th Ave & E Denn...|          47.598488|          -122.35523|                12|                 0|                   1|\n",
      "|    max|            255245|SEA00500|Westlake Ave & 6t...|Westlake Ave & 6t...|          WF-04|        WF-04|Short-Term Pass H...| Other|              1999|                85|                4| sin_edad|                28800|                480.0|     WF-04|Westlake Ave & 6t...|          47.666145|         -122.284119|                30|                26|                   4|\n",
      "+-------+------------------+--------+--------------------+--------------------+---------------+-------------+--------------------+------+------------------+------------------+-----------------+---------+---------------------+---------------------+----------+--------------------+-------------------+--------------------+------------------+------------------+--------------------+\n",
      "\n",
      "\n",
      "\n",
      "Schema Join Trips-FromStation\n",
      "\n",
      "root\n",
      " |-- trip_id: integer (nullable = true)\n",
      " |-- starttime: timestamp (nullable = true)\n",
      " |-- stoptime: timestamp (nullable = true)\n",
      " |-- bikeid: string (nullable = true)\n",
      " |-- from_station_name: string (nullable = true)\n",
      " |-- to_station_name: string (nullable = true)\n",
      " |-- from_station_id: string (nullable = true)\n",
      " |-- to_station_id: string (nullable = true)\n",
      " |-- usertype: string (nullable = true)\n",
      " |-- gender: string (nullable = true)\n",
      " |-- birthyear: integer (nullable = true)\n",
      " |-- Date: date (nullable = true)\n",
      " |-- age: integer (nullable = true)\n",
      " |-- quarter_date: integer (nullable = true)\n",
      " |-- age_range: string (nullable = true)\n",
      " |-- trip_duration_seconds: long (nullable = true)\n",
      " |-- trip_duration_minutes: double (nullable = true)\n",
      " |-- station_id: string (nullable = true)\n",
      " |-- name: string (nullable = true)\n",
      " |-- lat: double (nullable = true)\n",
      " |-- long: double (nullable = true)\n",
      " |-- install_date: date (nullable = true)\n",
      " |-- install_dockcount: integer (nullable = true)\n",
      " |-- modification_date: date (nullable = true)\n",
      " |-- current_dockcount: integer (nullable = true)\n",
      " |-- decommission_date: date (nullable = true)\n",
      " |-- quarter_install_date: integer (nullable = true)\n",
      "\n",
      "Describe Join Trips-FromStation\n",
      "+-------+-----------------+--------+--------------------+--------------------+---------------+-------------+--------------------+------+------------------+------------------+------------------+---------+---------------------+---------------------+----------+--------------------+-------------------+-------------------+------------------+------------------+--------------------+\n",
      "|summary|          trip_id|  bikeid|   from_station_name|     to_station_name|from_station_id|to_station_id|            usertype|gender|         birthyear|               age|      quarter_date|age_range|trip_duration_seconds|trip_duration_minutes|station_id|                name|                lat|               long| install_dockcount| current_dockcount|quarter_install_date|\n",
      "+-------+-----------------+--------+--------------------+--------------------+---------------+-------------+--------------------+------+------------------+------------------+------------------+---------+---------------------+---------------------+----------+--------------------+-------------------+-------------------+------------------+------------------+--------------------+\n",
      "|  count|           236053|  236053|              236053|              236053|         236053|       236053|              236053|146166|            146162|            146162|            236053|   236053|               236053|               236053|    236053|              236053|             236053|             236053|            236053|            236053|              236053|\n",
      "|   mean|130061.9965431492|    null|                null|                null|           null|         null|                null|  null| 1979.879407780408| 35.32684965996634|2.4989387976429023|     null|     1202.52553451979|     20.0420922419965|      null|                null|  47.62041897234029|-122.33095912742603|17.582297195968703|17.589126170817572|  3.9384672086353487|\n",
      "| stddev|72839.91273323167|    null|                null|                null|           null|         null|                null|  null|10.154979728502191|10.155829263215274|0.9850890937544876|     null|   2066.6054982425976|    34.44342497071001|      null|                null|0.01433503517612249|0.01389415811038492| 2.983593278120738| 4.085179060284034|  0.3415888145030058|\n",
      "|    min|              431|SEA00001|12th Ave & E Denn...|12th Ave & E Denn...|          BT-01|        BT-01|              Member|Female|              1931|                16|                 1|   adulto|                   60|                  1.0|     BT-01|12th Ave & E Denn...|          47.598488|         -122.35523|                12|                 0|                   1|\n",
      "|    max|           255245|SEA00500|Westlake Ave & 6t...|Westlake Ave & 6t...|          WF-04|        WF-04|Short-Term Pass H...| Other|              1999|                85|                 4| sin_edad|                28800|                480.0|     WF-04|Westlake Ave & 6t...|          47.666145|        -122.284119|                30|                26|                   4|\n",
      "+-------+-----------------+--------+--------------------+--------------------+---------------+-------------+--------------------+------+------------------+------------------+------------------+---------+---------------------+---------------------+----------+--------------------+-------------------+-------------------+------------------+------------------+--------------------+\n",
      "\n",
      "\n",
      "\n",
      "\n",
      "\n",
      "*** Dataframes limpio y modificados ***\n",
      "\n",
      "Schema Trips\n",
      "root\n",
      " |-- trip_id: integer (nullable = true)\n",
      " |-- starttime: timestamp (nullable = true)\n",
      " |-- stoptime: timestamp (nullable = true)\n",
      " |-- bikeid: string (nullable = true)\n",
      " |-- from_station_name: string (nullable = true)\n",
      " |-- to_station_name: string (nullable = true)\n",
      " |-- from_station_id: string (nullable = true)\n",
      " |-- to_station_id: string (nullable = true)\n",
      " |-- usertype: string (nullable = true)\n",
      " |-- gender: string (nullable = true)\n",
      " |-- birthyear: integer (nullable = true)\n",
      " |-- Date: date (nullable = true)\n",
      " |-- age: integer (nullable = true)\n",
      " |-- quarter_date: integer (nullable = true)\n",
      " |-- age_range: string (nullable = true)\n",
      " |-- trip_duration_seconds: long (nullable = true)\n",
      " |-- trip_duration_minutes: double (nullable = true)\n",
      "\n",
      "Describe Trips\n",
      "+-------+------------------+--------+--------------------+--------------------+---------------+-------------+--------------------+------+------------------+------------------+------------------+---------+---------------------+---------------------+\n",
      "|summary|           trip_id|  bikeid|   from_station_name|     to_station_name|from_station_id|to_station_id|            usertype|gender|         birthyear|               age|      quarter_date|age_range|trip_duration_seconds|trip_duration_minutes|\n",
      "+-------+------------------+--------+--------------------+--------------------+---------------+-------------+--------------------+------+------------------+------------------+------------------+---------+---------------------+---------------------+\n",
      "|  count|            236058|  236058|              236058|              236058|         236058|       236058|              236058|146169|            146165|            146165|            236058|   236058|               236058|               236058|\n",
      "|   mean|130063.46909234171|    null|                null|                null|           null|         null|                null|  null|  1979.87964286936| 35.32662402079841| 2.498936701996967|     null|   1202.5036219912056|    20.04172703318676|\n",
      "| stddev| 72840.36964235043|    null|                null|                null|           null|         null|                null|  null|10.155011011029064|10.155851429752444|0.9850813464483379|     null|    2066.589187484963|     34.4431531247494|\n",
      "|    min|               431|SEA00001|12th Ave & E Denn...|12th Ave & E Denn...|      8D OPS 02|    8D OPS 02|              Member|Female|              1931|                16|                 1|   adulto|                   60|                  1.0|\n",
      "|    max|            255245|SEA99997|Westlake Ave & 6t...|Westlake Ave & 6t...|          WF-04|        WF-04|Short-Term Pass H...| Other|              1999|                85|                 4| sin_edad|                28800|                480.0|\n",
      "+-------+------------------+--------+--------------------+--------------------+---------------+-------------+--------------------+------+------------------+------------------+------------------+---------+---------------------+---------------------+\n",
      "\n",
      "\n",
      "\n",
      "Schema Weather\n",
      "root\n",
      " |-- Date: date (nullable = true)\n",
      " |-- Max_Temperature_F: integer (nullable = true)\n",
      " |-- Mean_Temperature_F: double (nullable = true)\n",
      " |-- Min_TemperatureF: integer (nullable = true)\n",
      " |-- Max_Dew_Point_F: integer (nullable = true)\n",
      " |-- MeanDew_Point_F: integer (nullable = true)\n",
      " |-- Min_Dewpoint_F: integer (nullable = true)\n",
      " |-- Max_Humidity: integer (nullable = true)\n",
      " |-- Mean_Humidity: integer (nullable = true)\n",
      " |-- Min_Humidity: integer (nullable = true)\n",
      " |-- Max_Sea_Level_Pressure_In: double (nullable = true)\n",
      " |-- Mean_Sea_Level_Pressure_In: double (nullable = true)\n",
      " |-- Min_Sea_Level_Pressure_In: double (nullable = true)\n",
      " |-- Max_Visibility_Miles: integer (nullable = true)\n",
      " |-- Mean_Visibility_Miles: integer (nullable = true)\n",
      " |-- Min_Visibility_Miles: integer (nullable = true)\n",
      " |-- Max_Wind_Speed_MPH: integer (nullable = true)\n",
      " |-- Mean_Wind_Speed_MPH: integer (nullable = true)\n",
      " |-- Max_Gust_Speed_MPH: integer (nullable = true)\n",
      " |-- Precipitation_In: double (nullable = true)\n",
      " |-- Events: string (nullable = true)\n",
      " |-- temporada: string (nullable = true)\n",
      "\n",
      "Describe Weather\n",
      "+-------+------------------+------------------+-----------------+-----------------+-----------------+------------------+-----------------+------------------+------------------+-------------------------+--------------------------+-------------------------+--------------------+---------------------+--------------------+------------------+-------------------+------------------+-------------------+------+---------+\n",
      "|summary| Max_Temperature_F|Mean_Temperature_F| Min_TemperatureF|  Max_Dew_Point_F|  MeanDew_Point_F|    Min_Dewpoint_F|     Max_Humidity|     Mean_Humidity|      Min_Humidity|Max_Sea_Level_Pressure_In|Mean_Sea_Level_Pressure_In|Min_Sea_Level_Pressure_In|Max_Visibility_Miles|Mean_Visibility_Miles|Min_Visibility_Miles|Max_Wind_Speed_MPH|Mean_Wind_Speed_MPH|Max_Gust_Speed_MPH|   Precipitation_In|Events|temporada|\n",
      "+-------+------------------+------------------+-----------------+-----------------+-----------------+------------------+-----------------+------------------+------------------+-------------------------+--------------------------+-------------------------+--------------------+---------------------+--------------------+------------------+-------------------+------------------+-------------------+------+---------+\n",
      "|  count|               689|               689|              689|              689|              689|               689|              689|               689|               689|                      689|                       689|                      689|                 689|                  689|                 689|               689|                689|               689|                689|   689|      689|\n",
      "|   mean| 64.02757619738752| 56.58200290275762|49.45428156748911|48.57184325108853|45.02177068214804|40.873730043541364|84.54136429608128| 68.50653120464442| 49.97387518142235|       30.121741654571785|        30.034760522496352|       29.940609579100162|   9.989840348330913|    9.429608127721336|   7.245283018867925|11.085631349782293|  4.631349782293179| 9.252539912917271|0.10506531204644416|  null|     null|\n",
      "| stddev|12.427842666036538|10.400666405583063|9.451437219164811|7.501229914567871|7.914025068848347| 8.854608453402333|9.718948101814224|12.701871120263478|15.825700770390313|      0.18336688828348863|        0.1975025223794319|      0.22180268302886977|  0.2666787612158108|   1.1743602873841612|   3.281277750671428| 3.921087101271782|   2.78031986529367|11.871897272449981|0.23564366964145267|  null|     null|\n",
      "|    min|                39|              33.0|               23|               10|                4|                 1|               40|                24|                15|                    29.47|                     29.31|                    29.14|                   3|                    1|                   0|                 4|                  0|                 0|                0.0|   Fog| invierno|\n",
      "|    max|                98|              83.0|               70|               77|               59|                57|              100|                95|                87|                    30.86|                     30.81|                    30.75|                  10|                   10|                  10|                30|                 23|                52|                2.2|  Snow|   verano|\n",
      "+-------+------------------+------------------+-----------------+-----------------+-----------------+------------------+-----------------+------------------+------------------+-------------------------+--------------------------+-------------------------+--------------------+---------------------+--------------------+------------------+-------------------+------------------+-------------------+------+---------+\n",
      "\n",
      "\n",
      "\n",
      "Schema Stations\n",
      "root\n",
      " |-- station_id: string (nullable = true)\n",
      " |-- name: string (nullable = true)\n",
      " |-- lat: double (nullable = true)\n",
      " |-- long: double (nullable = true)\n",
      " |-- install_date: date (nullable = true)\n",
      " |-- install_dockcount: integer (nullable = true)\n",
      " |-- modification_date: date (nullable = true)\n",
      " |-- current_dockcount: integer (nullable = true)\n",
      " |-- decommission_date: date (nullable = true)\n",
      " |-- quarter_install_date: integer (nullable = true)\n",
      "\n",
      "Describe Stations\n",
      "+-------+----------+--------------------+-----------------+--------------------+------------------+------------------+--------------------+\n",
      "|summary|station_id|                name|              lat|                long| install_dockcount| current_dockcount|quarter_install_date|\n",
      "+-------+----------+--------------------+-----------------+--------------------+------------------+------------------+--------------------+\n",
      "|  count|        58|                  58|               58|                  58|                58|                58|                  58|\n",
      "|   mean|      null|                null|47.62479551586206| -122.32724190862069|17.586206896551722|16.517241379310345|   3.810344827586207|\n",
      "| stddev|      null|                null| 0.01906576274897|0.014956664123887123| 3.060985294637446| 5.117021403705188|  0.5760390018388021|\n",
      "|    min|     BT-01|12th Ave & E Denn...|        47.598488|          -122.35523|                12|                 0|                   1|\n",
      "|    max|     WF-04|Westlake Ave & 6t...|        47.666145|         -122.284119|                30|                26|                   4|\n",
      "+-------+----------+--------------------+-----------------+--------------------+------------------+------------------+--------------------+\n",
      "\n",
      "\n",
      "\n"
     ]
    }
   ],
   "source": [
    "#Joins guardados\n",
    "#trips_weather\n",
    "#trips_to_station\n",
    "#trips_from_station\n",
    "\n",
    "#Dataframes limpio y modificados\n",
    "#stations_fixed\n",
    "#weather_fixed\n",
    "#trips_fixed\n",
    "\n",
    "print(\"*** ¿Cuáles son numéricas? ¿Cuáles son categóricas? ¿Existe otro tipo de información? ***\\n\")\n",
    "#Joins guardados\n",
    "print(\"*** Joins Guardados ***\\n\")\n",
    "df_trips_weather = spark.read.option(\"inferSchema\", \"true\").parquet(cos.url('trips_weather', 'tallerdadatasciencecamiloferreira-donotdelete-pr-fz0ndvhao4eorr'))\n",
    "print(\"Schema Join Trips-Weather\")\n",
    "df_trips_weather.printSchema()\n",
    "print(\"Describe Join Trips-Weather\")\n",
    "df_trips_weather.describe().show()\n",
    "print(\"\\n\")\n",
    "\n",
    "df_trips_to_station = spark.read.option(\"inferSchema\", \"true\").parquet(cos.url('trips_to_station', 'tallerdadatasciencecamiloferreira-donotdelete-pr-fz0ndvhao4eorr'))\n",
    "print(\"Schema Join Trips-ToStation\")\n",
    "df_trips_to_station.printSchema()\n",
    "print(\"Describe Join Trips-ToStation\")\n",
    "df_trips_to_station.describe().show()\n",
    "print(\"\\n\")\n",
    "\n",
    "df_trips_from_station = spark.read.option(\"inferSchema\", \"true\").parquet(cos.url('trips_from_station', 'tallerdadatasciencecamiloferreira-donotdelete-pr-fz0ndvhao4eorr'))\n",
    "print(\"Schema Join Trips-FromStation\\n\")\n",
    "df_trips_from_station.printSchema()\n",
    "print(\"Describe Join Trips-FromStation\")\n",
    "df_trips_from_station.describe().show()\n",
    "print(\"\\n\")\n",
    "print(\"\\n\")\n",
    "\n",
    "#Dataframes limpio y modificados\n",
    "print(\"*** Dataframes limpio y modificados ***\\n\")\n",
    "df_trips_fixed = spark.read.option(\"inferSchema\", \"true\").parquet(cos.url('trips_fixed', 'tallerdadatasciencecamiloferreira-donotdelete-pr-fz0ndvhao4eorr'))\n",
    "print(\"Schema Trips\")\n",
    "df_trips_fixed.printSchema()\n",
    "print(\"Describe Trips\")\n",
    "df_trips_fixed.describe().show()\n",
    "print(\"\\n\")\n",
    "\n",
    "df_weather_fixed = spark.read.option(\"inferSchema\", \"true\").parquet(cos.url('weather_fixed', 'tallerdadatasciencecamiloferreira-donotdelete-pr-fz0ndvhao4eorr'))\n",
    "print(\"Schema Weather\")\n",
    "df_weather_fixed.printSchema()\n",
    "print(\"Describe Weather\")\n",
    "df_weather_fixed.describe().show()\n",
    "print(\"\\n\")\n",
    "\n",
    "df_stations_fixed = spark.read.option(\"inferSchema\", \"true\").parquet(cos.url('stations_fixed', 'tallerdadatasciencecamiloferreira-donotdelete-pr-fz0ndvhao4eorr'))\n",
    "print(\"Schema Stations\")\n",
    "df_stations_fixed.printSchema()\n",
    "print(\"Describe Stations\")\n",
    "df_stations_fixed.describe().show()\n",
    "print(\"\\n\")\n",
    "\n",
    "#Cabe destacar que entre los datos string tenemos variables categóricas(como events de weather, seasons de weather, entre otros) y contamos con identificadores alfanumericos (como stationid, tripid, entre otros)"
   ]
  },
  {
   "cell_type": "markdown",
   "metadata": {},
   "source": [
    "# Analisis variables numericas"
   ]
  },
  {
   "cell_type": "code",
   "execution_count": 4,
   "metadata": {},
   "outputs": [
    {
     "name": "stdout",
     "output_type": "stream",
     "text": [
      "+----------+-------+-------------------+-------------------+--------+--------------------+--------------------+---------------+-------------+--------------------+------+---------+----+------------+------------+---------------------+---------------------+-----------------+------------------+----------------+---------------+---------------+--------------+------------+-------------+------------+-------------------------+--------------------------+-------------------------+--------------------+---------------------+--------------------+------------------+-------------------+------------------+----------------+--------+---------+-----------------------------+\n",
      "|      Date|trip_id|          starttime|           stoptime|  bikeid|   from_station_name|     to_station_name|from_station_id|to_station_id|            usertype|gender|birthyear| age|quarter_date|   age_range|trip_duration_seconds|trip_duration_minutes|Max_Temperature_F|Mean_Temperature_F|Min_TemperatureF|Max_Dew_Point_F|MeanDew_Point_F|Min_Dewpoint_F|Max_Humidity|Mean_Humidity|Min_Humidity|Max_Sea_Level_Pressure_In|Mean_Sea_Level_Pressure_In|Min_Sea_Level_Pressure_In|Max_Visibility_Miles|Mean_Visibility_Miles|Min_Visibility_Miles|Max_Wind_Speed_MPH|Mean_Wind_Speed_MPH|Max_Gust_Speed_MPH|Precipitation_In|  Events|temporada|quantil_trip_duration_minutes|\n",
      "+----------+-------+-------------------+-------------------+--------+--------------------+--------------------+---------------+-------------+--------------------+------+---------+----+------------+------------+---------------------+---------------------+-----------------+------------------+----------------+---------------+---------------+--------------+------------+-------------+------------+-------------------------+--------------------------+-------------------------+--------------------+---------------------+--------------------+------------------+-------------------+------------------+----------------+--------+---------+-----------------------------+\n",
      "|2014-10-29|   7222|2014-10-29 12:34:00|2014-10-29 12:57:00|SEA00025|Republican St & W...|E Blaine St & Fai...|         SLU-04|        EL-03|              Member|Female|     1951|  63|           4|adulto_mayor|                 1380|                 23.0|               64|              59.0|              54|             54|             51|            50|          88|           76|          60|                    30.14|                     30.06|                    29.94|                  10|                   10|                   9|                15|                  7|                24|            0.04|    Rain|    otoño|                          8.0|\n",
      "|2015-05-11|  72007|2015-05-11 13:02:00|2015-05-11 13:08:00|SEA00115|Burke Museum / E ...|Burke-Gilman Trai...|          UW-02|        UD-01|              Member|  Male|     1995|  20|           2|     jovenes|                  360|                  6.0|               59|              56.0|              53|             50|             47|            45|          82|           71|          64|                    30.05|                     29.99|                    29.89|                  10|                   10|                   5|                 9|                  5|                 0|             0.0|    Rain|primavera|                          2.0|\n",
      "|2015-08-05| 122825|2015-08-05 09:48:00|2015-08-05 09:59:00|SEA00283|Dexter Ave & Denn...|Seattle Aquarium ...|         SLU-18|        WF-04|              Member|  Male|     1954|  61|           3|adulto_mayor|                  660|                 11.0|               75|              65.0|              57|             53|             51|            50|          75|           61|          44|                     30.1|                     30.07|                    30.02|                  10|                   10|                  10|                 8|                  3|                18|             0.0|  Normal|   verano|                          5.0|\n",
      "|2016-06-17| 222322|2016-06-17 18:56:00|2016-06-17 19:03:00|SEA00191|Cal Anderson Park...|Summit Ave E & E ...|          CH-08|        CH-03|Short-Term Pass H...|  null|     null|null|           2|    sin_edad|                  420|                  7.0|               66|              60.0|              53|             53|             48|            45|          90|           69|          45|                    30.17|                     30.12|                    30.07|                  10|                   10|                   3|                14|                  3|                22|            0.22|    Rain|   verano|                          3.0|\n",
      "|2014-10-26|   6039|2014-10-26 01:50:00|2014-10-26 02:00:00|SEA00230|   2nd Ave & Pine St|Republican St & W...|         CBD-13|       SLU-04|              Member|  Male|     1987|  27|           4|      adulto|                  600|                 10.0|               59|              52.0|              48|             48|             44|            42|          86|           71|          62|                    30.15|                     29.98|                    29.76|                  10|                   10|                  10|                20|                 12|                30|            0.05|    Rain|    otoño|                          4.0|\n",
      "|2015-08-10| 126181|2015-08-10 14:36:00|2015-08-10 14:43:00|SEA00198| 1st Ave & Marion St|Seattle Aquarium ...|         CBD-05|        WF-04|Short-Term Pass H...|  null|     null|null|           3|    sin_edad|                  420|                  7.0|               84|              75.0|              66|             57|             52|            49|          73|           47|          29|                    29.96|                     29.92|                    29.87|                  10|                   10|                  10|                12|                  3|                 0|             0.0|    Rain|   verano|                          3.0|\n",
      "|2016-02-02| 181466|2016-02-02 22:28:00|2016-02-02 22:34:00|SEA00368|  Union St & 4th Ave|   2nd Ave & Vine St|         CBD-04|        BT-03|Short-Term Pass H...|  null|     null|null|           1|    sin_edad|                  360|                  6.0|               50|              42.0|              35|             40|             36|            31|         100|           82|          48|                    30.22|                      30.2|                    30.18|                  10|                    9|                   0|                 8|                  2|                 0|            0.02|Fog-Rain| invierno|                          2.0|\n",
      "|2016-01-07| 176578|2016-01-07 17:25:00|2016-01-07 17:26:00|SEA00216|Harvard Ave & E P...|   Pine St & 9th Ave|          CH-09|       SLU-16|              Member|  Male|     1980|  36|           1|      adulto|                   60|                  1.0|               45|              38.0|              32|             41|             37|            32|         100|           93|          81|                    30.03|                     29.91|                    29.77|                  10|                    6|                   0|                 6|                  2|                 0|             0.0|     Fog| invierno|                          0.0|\n",
      "|2015-04-22|  63141|2015-04-22 20:03:00|2015-04-22 20:13:00|SEA00299|Dexter Ave N & Al...|9th Ave N & Merce...|         SLU-02|       DPD-01|Short-Term Pass H...|  null|     null|null|           2|    sin_edad|                  600|                 10.0|               62|              52.0|              43|             40|             37|            24|          86|           62|          24|                     30.2|                     30.14|                    30.06|                  10|                   10|                  10|                 9|                  5|                17|             0.0|  Normal|primavera|                          4.0|\n",
      "|2015-02-04|  34139|2015-02-04 10:25:00|2015-02-04 10:33:00|SEA00380|E Pine St & 16th Ave|PATH / 9th Ave & ...|          CH-07|       SLU-07|              Member|  Male|     1986|  29|           1|      adulto|                  480|                  8.0|               52|              47.0|              42|             46|             43|            39|          93|           84|          74|                    30.09|                     29.95|                    29.74|                  10|                    6|                   0|                 7|                  2|                 0|             0.3|Fog-Rain| invierno|                          3.0|\n",
      "|2016-06-11| 219470|2016-06-11 01:30:00|2016-06-11 02:15:00|SEA00108|  3rd Ave & Broad St|  3rd Ave & Broad St|          BT-01|        BT-01|Short-Term Pass H...|  null|     null|null|           2|    sin_edad|                 2700|                 45.0|               64|              58.0|              52|             54|             50|            47|          93|           79|          54|                    30.28|                     30.19|                     30.1|                  10|                   10|                   6|                 9|                  6|                 0|             0.1|    Rain|   verano|                          9.0|\n",
      "|2014-12-13|  21342|2014-12-13 21:48:00|2014-12-13 21:57:00|SEA00051|E Pine St & 16th Ave|   2nd Ave & Pine St|          CH-07|       CBD-13|              Member|Female|     1975|  39|           4|      adulto|                  540|                  9.0|               52|              46.0|              41|             43|             41|            37|          90|           82|          71|                    30.24|                      30.2|                    30.06|                  10|                    8|                   1|                 8|                  3|                 0|            0.01|  Normal| invierno|                          4.0|\n",
      "|2015-06-12|  89259|2015-06-12 14:51:00|2015-06-12 15:07:00|SEA00308|Westlake Ave & 6t...|REI / Yale Ave N ...|         SLU-15|       SLU-01|Short-Term Pass H...|  null|     null|null|           2|    sin_edad|                  960|                 16.0|               70|              64.0|              57|             46|             44|            39|          67|           52|          35|                     30.2|                     30.16|                    30.11|                  10|                   10|                  10|                 8|                  5|                 0|             0.0|  Normal|   verano|                          6.0|\n",
      "|2015-02-23|  40282|2015-02-23 12:19:00|2015-02-23 13:47:00|SEA00421|   2nd Ave & Pine St| 1st Ave & Marion St|         CBD-13|       CBD-05|Short-Term Pass H...|  null|     null|null|           1|    sin_edad|                 5280|                 88.0|               55|              44.0|              33|             33|             30|            26|          82|           57|          33|                    30.44|                     30.41|                    30.38|                  10|                   10|                  10|                 6|                  1|                 0|             0.0|  Normal| invierno|                          9.0|\n",
      "|2015-04-10|  56497|2015-04-10 08:54:00|2015-04-10 09:09:00|SEA00162|  7th Ave & Union St|   Pine St & 9th Ave|         CBD-03|       SLU-16|Short-Term Pass H...|  null|     null|null|           2|    sin_edad|                  900|                 15.0|               60|              54.0|              48|             46|             42|            37|          82|           68|          45|                    29.96|                     29.87|                    29.78|                  10|                    9|                   4|                15|                  6|                25|            0.52|    Rain|primavera|                          6.0|\n",
      "|2015-12-29| 175080|2015-12-29 17:32:00|2015-12-29 17:33:00|SEA00372|E Blaine St & Fai...|E Blaine St & Fai...|          EL-03|        EL-03|              Member|Female|     1989|  26|           4|      adulto|                   60|                  1.0|               45|              40.0|              33|             38|             36|            31|         100|           87|          65|                    30.25|                     30.16|                    30.13|                  10|                    9|                   6|                12|                  2|                 0|             0.0|  Normal| invierno|                          0.0|\n",
      "|2016-07-28| 240100|2016-07-28 16:06:00|2016-07-28 16:12:00|SEA00477|E Pine St & 16th Ave|E Harrison St & B...|          CH-07|        CH-02|              Member|  Male|     1966|  50|           3|adulto_mayor|                  360|                  6.0|               84|              73.0|              62|             57|             56|            54|          78|           56|          35|                    30.14|                     30.07|                     30.0|                  10|                   10|                  10|                10|                  5|                 0|             0.0|  Normal|   verano|                          2.0|\n",
      "|2016-06-19| 222648|2016-06-19 00:09:00|2016-06-19 00:40:00|SEA00222|E Harrison St & B...|NE 47th St & 12th...|          CH-02|        UD-07|Short-Term Pass H...|  null|     null|null|           2|    sin_edad|                 1860|                 31.0|               70|              58.0|              48|             48|             46|            43|          90|           63|          40|                    30.41|                     30.34|                    30.22|                  10|                   10|                  10|                12|                  7|                22|             0.0|  Normal|   verano|                          8.0|\n",
      "|2015-06-06|  85695|2015-06-06 12:50:00|2015-06-06 13:07:00|SEA00276|   2nd Ave & Pine St|Harvard Ave & E P...|         CBD-13|        CH-09|Short-Term Pass H...|  null|     null|null|           2|    sin_edad|                 1020|                 17.0|               84|              72.0|              59|             53|             50|            46|          65|           46|          29|                    30.06|                     30.01|                    29.96|                  10|                   10|                  10|                10|                  3|                17|             0.0|  Normal|   verano|                          7.0|\n",
      "|2015-06-24|  96179|2015-06-24 08:28:00|2015-06-24 08:38:00|SEA00268|Seattle Universit...|   Pine St & 9th Ave|          FH-04|       SLU-16|              Member|Female|     1988|  27|           2|      adulto|                  600|                 10.0|               79|              72.0|              66|             54|             51|            47|          59|           47|          33|                     30.1|                     30.07|                    30.04|                  10|                   10|                  10|                 8|                  2|                 0|             0.0|  Normal|   verano|                          4.0|\n",
      "+----------+-------+-------------------+-------------------+--------+--------------------+--------------------+---------------+-------------+--------------------+------+---------+----+------------+------------+---------------------+---------------------+-----------------+------------------+----------------+---------------+---------------+--------------+------------+-------------+------------+-------------------------+--------------------------+-------------------------+--------------------+---------------------+--------------------+------------------+-------------------+------------------+----------------+--------+---------+-----------------------------+\n",
      "only showing top 20 rows\n",
      "\n"
     ]
    }
   ],
   "source": [
    "#Para las variables numéricas, analice su distribución, extraiga conclusiones.\n",
    "#Utilice la mayor cantidad posible de herramientas dadas en clase para presentar sus conclusiones.\n",
    "\n",
    "#Variables \n",
    "# Discretizamos la variable trip_duration_minutes utilizando un discretizador por cuantiles y 10 valores discretos\n",
    "\n",
    "from pyspark.ml.feature import QuantileDiscretizer\n",
    "\n",
    "#trip_duration_minutes\n",
    "discretizer = QuantileDiscretizer(numBuckets=10, inputCol=\"trip_duration_minutes\", outputCol=\"quantil_trip_duration_minutes\")\n",
    "result = discretizer.fit(df_trips_weather).transform(df_trips_weather)\n",
    "result.show()"
   ]
  },
  {
   "cell_type": "code",
   "execution_count": 5,
   "metadata": {},
   "outputs": [
    {
     "name": "stdout",
     "output_type": "stream",
     "text": [
      "+-----------------------------+-----------+-----------+---------+--------+\n",
      "|quantil_trip_duration_minutes|Min_tripdur|Max_tripdur|Variacion|Cantidad|\n",
      "+-----------------------------+-----------+-----------+---------+--------+\n",
      "|                          0.0|        1.0|        3.0|      2.0|   13629|\n",
      "|                          1.0|        4.0|        5.0|      1.0|   28241|\n",
      "|                          2.0|        6.0|        6.0|      0.0|   16599|\n",
      "|                          3.0|        7.0|        8.0|      1.0|   31991|\n",
      "|                          4.0|        9.0|       10.0|      1.0|   26887|\n",
      "|                          5.0|       11.0|       12.0|      1.0|   20106|\n",
      "|                          6.0|       13.0|       16.0|      3.0|   27225|\n",
      "|                          7.0|       17.0|       21.0|      4.0|   21386|\n",
      "|                          8.0|       22.0|       35.0|     13.0|   25868|\n",
      "|                          9.0|       36.0|      480.0|    444.0|   24126|\n",
      "+-----------------------------+-----------+-----------+---------+--------+\n",
      "\n"
     ]
    }
   ],
   "source": [
    "# Agrupamos por la variable quantil y analizamos los valores mínimos y máximos de tripduration\n",
    "# También imprimimos la cantidad de filas en cada cuantil.\n",
    "\n",
    "#Conclusion\n",
    "#En base a la variacion (diferencia entre maximo y minimo) notamos que la mayoria de los quantiles muestra un valor muy similar.\n",
    "#Aunque en los dos ultimos quantiles notamos una diferencia, aun asi el que sin duda alguna representa una complicacion es el ultimo quantil.\n",
    "#Teniendo una variacion de 444, lo cual es muy grande, demostrando una necesidad de generar el discritizer con una mayor cantidad de buckets.\n",
    "#Esto ayudaria a conocer si tenemos muchos mas grupos o en trip duration tenemos valores muy dispares.\n",
    "\n",
    "result.groupBy(\"quantil_trip_duration_minutes\").agg(min(\"trip_duration_minutes\").alias(\"Min_tripdur\"),max(\"trip_duration_minutes\").alias(\"Max_tripdur\"),(max(\"trip_duration_minutes\")-min(\"trip_duration_minutes\")).alias(\"Variacion\"),count(\"*\").alias(\"Cantidad\")).orderBy(asc(\"Min_tripdur\")).show()"
   ]
  },
  {
   "cell_type": "code",
   "execution_count": 6,
   "metadata": {},
   "outputs": [
    {
     "name": "stdout",
     "output_type": "stream",
     "text": [
      "+----+-------------+------------+------------+\n",
      "|Year|AVG Mean Temp|AVG Max Temp|AVG Min Temp|\n",
      "+----+-------------+------------+------------+\n",
      "|2014|        49.85|       55.48|       44.29|\n",
      "|2015|        57.54|       65.02|       50.44|\n",
      "|2016|        57.35|       65.35|       49.67|\n",
      "+----+-------------+------------+------------+\n",
      "\n"
     ]
    }
   ],
   "source": [
    "#Analisis de temperatura media, max y min durante los años registrados en df_weather\n",
    "#Insight de microclima de Seattle\n",
    "\n",
    "#Se denota que en el 2015 y el 2016 hubo un sensible aumento comparado al 2014, el cual por ahora parece ser relativamente estable.\n",
    "#Tambien ocurre con la minima la cual parece aumentar.\n",
    "#Tambien ocurre con la maxima la cual parece aumentar.\n",
    "#Esto lleva a deducir que el microclima de Seattle tiende a aumentar su temperatura.\n",
    "\n",
    "df_weather_fixed.groupBy(year(\"Date\").alias(\"Year\")).agg(round(avg(\"Mean_Temperature_F\"),2).alias(\"AVG Mean Temp\"),round(avg(\"Max_Temperature_F\"),2).alias(\"AVG Max Temp\"),round(avg(\"Min_TemperatureF\"),2).alias(\"AVG Min Temp\")).orderBy(\"year\").show()"
   ]
  },
  {
   "cell_type": "markdown",
   "metadata": {},
   "source": [
    "# Analisis variables categoricas"
   ]
  },
  {
   "cell_type": "code",
   "execution_count": 27,
   "metadata": {},
   "outputs": [
    {
     "name": "stdout",
     "output_type": "stream",
     "text": [
      "+-----------------+-----------+\n",
      "|           Events|EventsIndex|\n",
      "+-----------------+-----------+\n",
      "|             Snow|        5.0|\n",
      "|        Rain-Snow|        6.0|\n",
      "|         Fog-Rain|        3.0|\n",
      "|              Fog|        2.0|\n",
      "|Rain-Thunderstorm|        4.0|\n",
      "|           Normal|        0.0|\n",
      "|             Rain|        1.0|\n",
      "+-----------------+-----------+\n",
      "\n"
     ]
    }
   ],
   "source": [
    "from pyspark.ml.feature import StringIndexer\n",
    "\n",
    "# StringIndexer nos permite transformar una variable categórica de texto en índices\n",
    "# Se utiliza para indizar la variable Events\n",
    "\n",
    "#result es el df transformado\n",
    "\n",
    "# Creamos el modelo\n",
    "indexer1 = StringIndexer(inputCol=\"Events\", outputCol=\"EventsIndex\")\n",
    "# Entrenamos el modelo y lo utilizamos sobre train directamente\n",
    "indexed1 = indexer1.fit(result).transform(result)\n",
    "\n",
    "indexed1.select(\"Events\", \"EventsIndex\").orderBy(\"EventsIndex\").distinct().show()\n",
    "\n",
    "#Se debe generar lo mismo para gender"
   ]
  },
  {
   "cell_type": "code",
   "execution_count": 40,
   "metadata": {},
   "outputs": [
    {
     "name": "stdout",
     "output_type": "stream",
     "text": [
      "+------+\n",
      "|gender|\n",
      "+------+\n",
      "|  null|\n",
      "|Female|\n",
      "| Other|\n",
      "|  Male|\n",
      "+------+\n",
      "\n"
     ]
    }
   ],
   "source": [
    "indexed1.select(\"gender\").distinct().show()"
   ]
  },
  {
   "cell_type": "code",
   "execution_count": 41,
   "metadata": {},
   "outputs": [],
   "source": [
    "#df_weather_NoNAevent = df_weather_fechas.na.fill(\"Normal\", [\"Events\"])\n",
    "indexed1 = indexed1.na.fill(\"NoInfo\", [\"gender\"])"
   ]
  },
  {
   "cell_type": "code",
   "execution_count": 42,
   "metadata": {},
   "outputs": [
    {
     "name": "stdout",
     "output_type": "stream",
     "text": [
      "+------+\n",
      "|gender|\n",
      "+------+\n",
      "|Female|\n",
      "|NoInfo|\n",
      "| Other|\n",
      "|  Male|\n",
      "+------+\n",
      "\n"
     ]
    }
   ],
   "source": [
    "indexed1.select(\"gender\").distinct().show()"
   ]
  },
  {
   "cell_type": "code",
   "execution_count": 43,
   "metadata": {},
   "outputs": [
    {
     "name": "stdout",
     "output_type": "stream",
     "text": [
      "root\n",
      " |-- Date: date (nullable = true)\n",
      " |-- trip_id: integer (nullable = true)\n",
      " |-- starttime: timestamp (nullable = true)\n",
      " |-- stoptime: timestamp (nullable = true)\n",
      " |-- bikeid: string (nullable = true)\n",
      " |-- from_station_name: string (nullable = true)\n",
      " |-- to_station_name: string (nullable = true)\n",
      " |-- from_station_id: string (nullable = true)\n",
      " |-- to_station_id: string (nullable = true)\n",
      " |-- usertype: string (nullable = true)\n",
      " |-- gender: string (nullable = false)\n",
      " |-- birthyear: integer (nullable = true)\n",
      " |-- age: integer (nullable = true)\n",
      " |-- quarter_date: integer (nullable = true)\n",
      " |-- age_range: string (nullable = true)\n",
      " |-- trip_duration_seconds: long (nullable = true)\n",
      " |-- trip_duration_minutes: double (nullable = true)\n",
      " |-- Max_Temperature_F: integer (nullable = true)\n",
      " |-- Mean_Temperature_F: double (nullable = true)\n",
      " |-- Min_TemperatureF: integer (nullable = true)\n",
      " |-- Max_Dew_Point_F: integer (nullable = true)\n",
      " |-- MeanDew_Point_F: integer (nullable = true)\n",
      " |-- Min_Dewpoint_F: integer (nullable = true)\n",
      " |-- Max_Humidity: integer (nullable = true)\n",
      " |-- Mean_Humidity: integer (nullable = true)\n",
      " |-- Min_Humidity: integer (nullable = true)\n",
      " |-- Max_Sea_Level_Pressure_In: double (nullable = true)\n",
      " |-- Mean_Sea_Level_Pressure_In: double (nullable = true)\n",
      " |-- Min_Sea_Level_Pressure_In: double (nullable = true)\n",
      " |-- Max_Visibility_Miles: integer (nullable = true)\n",
      " |-- Mean_Visibility_Miles: integer (nullable = true)\n",
      " |-- Min_Visibility_Miles: integer (nullable = true)\n",
      " |-- Max_Wind_Speed_MPH: integer (nullable = true)\n",
      " |-- Mean_Wind_Speed_MPH: integer (nullable = true)\n",
      " |-- Max_Gust_Speed_MPH: integer (nullable = true)\n",
      " |-- Precipitation_In: double (nullable = true)\n",
      " |-- Events: string (nullable = true)\n",
      " |-- temporada: string (nullable = true)\n",
      " |-- quantil_trip_duration_minutes: double (nullable = true)\n",
      " |-- EventsIndex: double (nullable = false)\n",
      " |-- genderIndex: double (nullable = false)\n",
      "\n",
      "+----------+-------+-------------------+-------------------+--------+--------------------+--------------------+---------------+-------------+--------------------+------+---------+----+------------+------------+---------------------+---------------------+-----------------+------------------+----------------+---------------+---------------+--------------+------------+-------------+------------+-------------------------+--------------------------+-------------------------+--------------------+---------------------+--------------------+------------------+-------------------+------------------+----------------+------+---------+-----------------------------+-----------+-----------+\n",
      "|      Date|trip_id|          starttime|           stoptime|  bikeid|   from_station_name|     to_station_name|from_station_id|to_station_id|            usertype|gender|birthyear| age|quarter_date|   age_range|trip_duration_seconds|trip_duration_minutes|Max_Temperature_F|Mean_Temperature_F|Min_TemperatureF|Max_Dew_Point_F|MeanDew_Point_F|Min_Dewpoint_F|Max_Humidity|Mean_Humidity|Min_Humidity|Max_Sea_Level_Pressure_In|Mean_Sea_Level_Pressure_In|Min_Sea_Level_Pressure_In|Max_Visibility_Miles|Mean_Visibility_Miles|Min_Visibility_Miles|Max_Wind_Speed_MPH|Mean_Wind_Speed_MPH|Max_Gust_Speed_MPH|Precipitation_In|Events|temporada|quantil_trip_duration_minutes|EventsIndex|genderIndex|\n",
      "+----------+-------+-------------------+-------------------+--------+--------------------+--------------------+---------------+-------------+--------------------+------+---------+----+------------+------------+---------------------+---------------------+-----------------+------------------+----------------+---------------+---------------+--------------+------------+-------------+------------+-------------------------+--------------------------+-------------------------+--------------------+---------------------+--------------------+------------------+-------------------+------------------+----------------+------+---------+-----------------------------+-----------+-----------+\n",
      "|2014-10-29|   7222|2014-10-29 12:34:00|2014-10-29 12:57:00|SEA00025|Republican St & W...|E Blaine St & Fai...|         SLU-04|        EL-03|              Member|Female|     1951|  63|           4|adulto_mayor|                 1380|                 23.0|               64|              59.0|              54|             54|             51|            50|          88|           76|          60|                    30.14|                     30.06|                    29.94|                  10|                   10|                   9|                15|                  7|                24|            0.04|  Rain|    otoño|                          8.0|        1.0|        2.0|\n",
      "|2015-05-11|  72007|2015-05-11 13:02:00|2015-05-11 13:08:00|SEA00115|Burke Museum / E ...|Burke-Gilman Trai...|          UW-02|        UD-01|              Member|  Male|     1995|  20|           2|     jovenes|                  360|                  6.0|               59|              56.0|              53|             50|             47|            45|          82|           71|          64|                    30.05|                     29.99|                    29.89|                  10|                   10|                   5|                 9|                  5|                 0|             0.0|  Rain|primavera|                          2.0|        1.0|        0.0|\n",
      "|2015-08-05| 122825|2015-08-05 09:48:00|2015-08-05 09:59:00|SEA00283|Dexter Ave & Denn...|Seattle Aquarium ...|         SLU-18|        WF-04|              Member|  Male|     1954|  61|           3|adulto_mayor|                  660|                 11.0|               75|              65.0|              57|             53|             51|            50|          75|           61|          44|                     30.1|                     30.07|                    30.02|                  10|                   10|                  10|                 8|                  3|                18|             0.0|Normal|   verano|                          5.0|        0.0|        0.0|\n",
      "|2016-06-17| 222322|2016-06-17 18:56:00|2016-06-17 19:03:00|SEA00191|Cal Anderson Park...|Summit Ave E & E ...|          CH-08|        CH-03|Short-Term Pass H...|NoInfo|     null|null|           2|    sin_edad|                  420|                  7.0|               66|              60.0|              53|             53|             48|            45|          90|           69|          45|                    30.17|                     30.12|                    30.07|                  10|                   10|                   3|                14|                  3|                22|            0.22|  Rain|   verano|                          3.0|        1.0|        1.0|\n",
      "|2014-10-26|   6039|2014-10-26 01:50:00|2014-10-26 02:00:00|SEA00230|   2nd Ave & Pine St|Republican St & W...|         CBD-13|       SLU-04|              Member|  Male|     1987|  27|           4|      adulto|                  600|                 10.0|               59|              52.0|              48|             48|             44|            42|          86|           71|          62|                    30.15|                     29.98|                    29.76|                  10|                   10|                  10|                20|                 12|                30|            0.05|  Rain|    otoño|                          4.0|        1.0|        0.0|\n",
      "+----------+-------+-------------------+-------------------+--------+--------------------+--------------------+---------------+-------------+--------------------+------+---------+----+------------+------------+---------------------+---------------------+-----------------+------------------+----------------+---------------+---------------+--------------+------------+-------------+------------+-------------------------+--------------------------+-------------------------+--------------------+---------------------+--------------------+------------------+-------------------+------------------+----------------+------+---------+-----------------------------+-----------+-----------+\n",
      "only showing top 5 rows\n",
      "\n",
      "+-----------+\n",
      "|genderIndex|\n",
      "+-----------+\n",
      "|        0.0|\n",
      "|        1.0|\n",
      "|        3.0|\n",
      "|        2.0|\n",
      "+-----------+\n",
      "\n"
     ]
    }
   ],
   "source": [
    "## StringIndexer nos permite transformar una variable categórica de texto en índices\n",
    "# Se utiliza para indizar la variable gender\n",
    "\n",
    "indexer2 = StringIndexer(inputCol=\"gender\", outputCol=\"genderIndex\")\n",
    "indexed2 = indexer2.fit(indexed1).transform(indexed1)\n",
    "\n",
    "indexed2.printSchema()\n",
    "indexed2.show(5)\n",
    "indexed2.select(\"genderIndex\").distinct().show()"
   ]
  },
  {
   "cell_type": "code",
   "execution_count": 44,
   "metadata": {},
   "outputs": [
    {
     "name": "stdout",
     "output_type": "stream",
     "text": [
      "+------+-----------+\n",
      "|gender|genderIndex|\n",
      "+------+-----------+\n",
      "|NoInfo|        1.0|\n",
      "|  Male|        0.0|\n",
      "| Other|        3.0|\n",
      "|Female|        2.0|\n",
      "+------+-----------+\n",
      "\n"
     ]
    }
   ],
   "source": [
    "indexed2.select(\"gender\", \"genderIndex\").orderBy(\"genderIndex\").distinct().show()"
   ]
  },
  {
   "cell_type": "markdown",
   "metadata": {},
   "source": [
    "# Trabajo para conseguir una revision mensual de clima"
   ]
  },
  {
   "cell_type": "code",
   "execution_count": 65,
   "metadata": {},
   "outputs": [],
   "source": [
    "#Se revisa si fue un dia normal o hubo alguna inclemencia climatologica, esto posteriormente se utilizara para una medida para analizar mensualmente el clima\n",
    "\n",
    "df_trips_weather_v2= indexed2.withColumn(\"IsGoodWeather\", when((col(\"EventsIndex\") == 0), 1).\\\n",
    "                                  otherwise(0))"
   ]
  },
  {
   "cell_type": "code",
   "execution_count": 66,
   "metadata": {},
   "outputs": [
    {
     "name": "stdout",
     "output_type": "stream",
     "text": [
      "root\n",
      " |-- Date: date (nullable = true)\n",
      " |-- trip_id: integer (nullable = true)\n",
      " |-- starttime: timestamp (nullable = true)\n",
      " |-- stoptime: timestamp (nullable = true)\n",
      " |-- bikeid: string (nullable = true)\n",
      " |-- from_station_name: string (nullable = true)\n",
      " |-- to_station_name: string (nullable = true)\n",
      " |-- from_station_id: string (nullable = true)\n",
      " |-- to_station_id: string (nullable = true)\n",
      " |-- usertype: string (nullable = true)\n",
      " |-- gender: string (nullable = false)\n",
      " |-- birthyear: integer (nullable = true)\n",
      " |-- age: integer (nullable = true)\n",
      " |-- quarter_date: integer (nullable = true)\n",
      " |-- age_range: string (nullable = true)\n",
      " |-- trip_duration_seconds: long (nullable = true)\n",
      " |-- trip_duration_minutes: double (nullable = true)\n",
      " |-- Max_Temperature_F: integer (nullable = true)\n",
      " |-- Mean_Temperature_F: double (nullable = true)\n",
      " |-- Min_TemperatureF: integer (nullable = true)\n",
      " |-- Max_Dew_Point_F: integer (nullable = true)\n",
      " |-- MeanDew_Point_F: integer (nullable = true)\n",
      " |-- Min_Dewpoint_F: integer (nullable = true)\n",
      " |-- Max_Humidity: integer (nullable = true)\n",
      " |-- Mean_Humidity: integer (nullable = true)\n",
      " |-- Min_Humidity: integer (nullable = true)\n",
      " |-- Max_Sea_Level_Pressure_In: double (nullable = true)\n",
      " |-- Mean_Sea_Level_Pressure_In: double (nullable = true)\n",
      " |-- Min_Sea_Level_Pressure_In: double (nullable = true)\n",
      " |-- Max_Visibility_Miles: integer (nullable = true)\n",
      " |-- Mean_Visibility_Miles: integer (nullable = true)\n",
      " |-- Min_Visibility_Miles: integer (nullable = true)\n",
      " |-- Max_Wind_Speed_MPH: integer (nullable = true)\n",
      " |-- Mean_Wind_Speed_MPH: integer (nullable = true)\n",
      " |-- Max_Gust_Speed_MPH: integer (nullable = true)\n",
      " |-- Precipitation_In: double (nullable = true)\n",
      " |-- Events: string (nullable = true)\n",
      " |-- temporada: string (nullable = true)\n",
      " |-- quantil_trip_duration_minutes: double (nullable = true)\n",
      " |-- EventsIndex: double (nullable = false)\n",
      " |-- genderIndex: double (nullable = false)\n",
      " |-- IsGoodWeather: integer (nullable = false)\n",
      "\n",
      "+----------+-------+-------------------+-------------------+--------+--------------------+--------------------+---------------+-------------+--------------------+------+---------+----+------------+------------+---------------------+---------------------+-----------------+------------------+----------------+---------------+---------------+--------------+------------+-------------+------------+-------------------------+--------------------------+-------------------------+--------------------+---------------------+--------------------+------------------+-------------------+------------------+----------------+------+---------+-----------------------------+-----------+-----------+-------------+\n",
      "|      Date|trip_id|          starttime|           stoptime|  bikeid|   from_station_name|     to_station_name|from_station_id|to_station_id|            usertype|gender|birthyear| age|quarter_date|   age_range|trip_duration_seconds|trip_duration_minutes|Max_Temperature_F|Mean_Temperature_F|Min_TemperatureF|Max_Dew_Point_F|MeanDew_Point_F|Min_Dewpoint_F|Max_Humidity|Mean_Humidity|Min_Humidity|Max_Sea_Level_Pressure_In|Mean_Sea_Level_Pressure_In|Min_Sea_Level_Pressure_In|Max_Visibility_Miles|Mean_Visibility_Miles|Min_Visibility_Miles|Max_Wind_Speed_MPH|Mean_Wind_Speed_MPH|Max_Gust_Speed_MPH|Precipitation_In|Events|temporada|quantil_trip_duration_minutes|EventsIndex|genderIndex|IsGoodWeather|\n",
      "+----------+-------+-------------------+-------------------+--------+--------------------+--------------------+---------------+-------------+--------------------+------+---------+----+------------+------------+---------------------+---------------------+-----------------+------------------+----------------+---------------+---------------+--------------+------------+-------------+------------+-------------------------+--------------------------+-------------------------+--------------------+---------------------+--------------------+------------------+-------------------+------------------+----------------+------+---------+-----------------------------+-----------+-----------+-------------+\n",
      "|2014-10-29|   7222|2014-10-29 12:34:00|2014-10-29 12:57:00|SEA00025|Republican St & W...|E Blaine St & Fai...|         SLU-04|        EL-03|              Member|Female|     1951|  63|           4|adulto_mayor|                 1380|                 23.0|               64|              59.0|              54|             54|             51|            50|          88|           76|          60|                    30.14|                     30.06|                    29.94|                  10|                   10|                   9|                15|                  7|                24|            0.04|  Rain|    otoño|                          8.0|        1.0|        2.0|            0|\n",
      "|2015-05-11|  72007|2015-05-11 13:02:00|2015-05-11 13:08:00|SEA00115|Burke Museum / E ...|Burke-Gilman Trai...|          UW-02|        UD-01|              Member|  Male|     1995|  20|           2|     jovenes|                  360|                  6.0|               59|              56.0|              53|             50|             47|            45|          82|           71|          64|                    30.05|                     29.99|                    29.89|                  10|                   10|                   5|                 9|                  5|                 0|             0.0|  Rain|primavera|                          2.0|        1.0|        0.0|            0|\n",
      "|2015-08-05| 122825|2015-08-05 09:48:00|2015-08-05 09:59:00|SEA00283|Dexter Ave & Denn...|Seattle Aquarium ...|         SLU-18|        WF-04|              Member|  Male|     1954|  61|           3|adulto_mayor|                  660|                 11.0|               75|              65.0|              57|             53|             51|            50|          75|           61|          44|                     30.1|                     30.07|                    30.02|                  10|                   10|                  10|                 8|                  3|                18|             0.0|Normal|   verano|                          5.0|        0.0|        0.0|            1|\n",
      "|2016-06-17| 222322|2016-06-17 18:56:00|2016-06-17 19:03:00|SEA00191|Cal Anderson Park...|Summit Ave E & E ...|          CH-08|        CH-03|Short-Term Pass H...|NoInfo|     null|null|           2|    sin_edad|                  420|                  7.0|               66|              60.0|              53|             53|             48|            45|          90|           69|          45|                    30.17|                     30.12|                    30.07|                  10|                   10|                   3|                14|                  3|                22|            0.22|  Rain|   verano|                          3.0|        1.0|        1.0|            0|\n",
      "|2014-10-26|   6039|2014-10-26 01:50:00|2014-10-26 02:00:00|SEA00230|   2nd Ave & Pine St|Republican St & W...|         CBD-13|       SLU-04|              Member|  Male|     1987|  27|           4|      adulto|                  600|                 10.0|               59|              52.0|              48|             48|             44|            42|          86|           71|          62|                    30.15|                     29.98|                    29.76|                  10|                   10|                  10|                20|                 12|                30|            0.05|  Rain|    otoño|                          4.0|        1.0|        0.0|            0|\n",
      "+----------+-------+-------------------+-------------------+--------+--------------------+--------------------+---------------+-------------+--------------------+------+---------+----+------------+------------+---------------------+---------------------+-----------------+------------------+----------------+---------------+---------------+--------------+------------+-------------+------------+-------------------------+--------------------------+-------------------------+--------------------+---------------------+--------------------+------------------+-------------------+------------------+----------------+------+---------+-----------------------------+-----------+-----------+-------------+\n",
      "only showing top 5 rows\n",
      "\n"
     ]
    }
   ],
   "source": [
    "df_trips_weather_v2.printSchema()\n",
    "df_trips_weather_v2.show(5)"
   ]
  },
  {
   "cell_type": "code",
   "execution_count": 67,
   "metadata": {},
   "outputs": [
    {
     "name": "stdout",
     "output_type": "stream",
     "text": [
      "+-----------------+-------------+\n",
      "|           Events|IsGoodWeather|\n",
      "+-----------------+-------------+\n",
      "|              Fog|            0|\n",
      "|             Rain|            0|\n",
      "|           Normal|            1|\n",
      "|Rain-Thunderstorm|            0|\n",
      "|         Fog-Rain|            0|\n",
      "|             Snow|            0|\n",
      "|        Rain-Snow|            0|\n",
      "+-----------------+-------------+\n",
      "\n"
     ]
    }
   ],
   "source": [
    "df_trips_weather_v2.select(\"Events\",\"IsGoodWeather\").orderBy(\"IsGoodWeather\").distinct().show()"
   ]
  },
  {
   "cell_type": "markdown",
   "metadata": {},
   "source": [
    "# Ejercicio 2 - Modelado"
   ]
  },
  {
   "cell_type": "code",
   "execution_count": 87,
   "metadata": {},
   "outputs": [
    {
     "name": "stdout",
     "output_type": "stream",
     "text": [
      "+----+-----+---------------+---------+---------------+\n",
      "|Year|Month|Goodweather_QTY|Total_QTY|GoodWeatherRate|\n",
      "+----+-----+---------------+---------+---------------+\n",
      "|2014|   10|            666|     6585|            0.1|\n",
      "|2014|   11|           3972|     7816|           0.51|\n",
      "|2014|   12|           2603|     5831|           0.45|\n",
      "|2015|    1|           2968|     7368|            0.4|\n",
      "|2015|    2|           3069|     7330|           0.42|\n",
      "|2015|    3|           4701|     9980|           0.47|\n",
      "|2015|    4|           5324|    12898|           0.41|\n",
      "|2015|    5|          13524|    15548|           0.87|\n",
      "|2015|    6|          14232|    15999|           0.89|\n",
      "|2015|    7|          16820|    18808|           0.89|\n",
      "|2015|    8|          13995|    17046|           0.82|\n",
      "|2015|    9|           9441|    13134|           0.72|\n",
      "|2015|   10|           5334|    10605|            0.5|\n",
      "|2015|   11|           1390|     6541|           0.21|\n",
      "|2015|   12|            606|     5049|           0.12|\n",
      "|2016|    1|           1393|     5162|           0.27|\n",
      "|2016|    2|            916|     5786|           0.16|\n",
      "|2016|    3|           2737|     6973|           0.39|\n",
      "|2016|    4|           6585|     9029|           0.73|\n",
      "|2016|    5|           9357|    10487|           0.89|\n",
      "+----+-----+---------------+---------+---------------+\n",
      "only showing top 20 rows\n",
      "\n"
     ]
    }
   ],
   "source": [
    "import pyspark.sql.functions as F\n",
    "cnt_cond = lambda cond: F.sum(F.when(cond, 1).otherwise(0))\n",
    "\n",
    "df_trips_weather_v2.groupBy(year(\"Date\").alias(\"Year\"),month(\"Date\").alias(\"Month\")).agg(cnt_cond(F.col('IsGoodWeather') > 0).alias('Goodweather_QTY'),cnt_cond(F.col('IsGoodWeather') >= 0).alias('Total_QTY'),round((cnt_cond(F.col('IsGoodWeather') > 0)/cnt_cond(F.col('IsGoodWeather') >= 0)),2).alias(\"GoodWeatherRate\")).orderBy(year(\"Date\"),month(\"Date\")).show()"
   ]
  },
  {
   "cell_type": "code",
   "execution_count": 88,
   "metadata": {},
   "outputs": [],
   "source": [
    "df_trips_weather_v2.write.mode(\"overwrite\").parquet(cos.url('trips_weather_v2', 'tallerdadatasciencecamiloferreira-donotdelete-pr-fz0ndvhao4eorr'))"
   ]
  },
  {
   "cell_type": "code",
   "execution_count": 98,
   "metadata": {},
   "outputs": [
    {
     "name": "stdout",
     "output_type": "stream",
     "text": [
      "+----------+\n",
      "|      Date|\n",
      "+----------+\n",
      "|2014-10-29|\n",
      "|2015-05-11|\n",
      "|2015-08-05|\n",
      "|2016-06-17|\n",
      "|2014-10-26|\n",
      "+----------+\n",
      "only showing top 5 rows\n",
      "\n"
     ]
    }
   ],
   "source": [
    "df_trips_weather_v2.select(\"Date\").show(5)"
   ]
  },
  {
   "cell_type": "markdown",
   "metadata": {},
   "source": [
    "# Manejo de date alternativo como si fuera un string YYYYMMDD para mejorar eficiencia"
   ]
  },
  {
   "cell_type": "code",
   "execution_count": 130,
   "metadata": {},
   "outputs": [
    {
     "name": "stdout",
     "output_type": "stream",
     "text": [
      "root\n",
      " |-- Date: date (nullable = true)\n",
      " |-- trip_id: integer (nullable = true)\n",
      " |-- starttime: timestamp (nullable = true)\n",
      " |-- stoptime: timestamp (nullable = true)\n",
      " |-- bikeid: string (nullable = true)\n",
      " |-- from_station_name: string (nullable = true)\n",
      " |-- to_station_name: string (nullable = true)\n",
      " |-- from_station_id: string (nullable = true)\n",
      " |-- to_station_id: string (nullable = true)\n",
      " |-- usertype: string (nullable = true)\n",
      " |-- gender: string (nullable = false)\n",
      " |-- birthyear: integer (nullable = true)\n",
      " |-- age: integer (nullable = true)\n",
      " |-- quarter_date: integer (nullable = true)\n",
      " |-- age_range: string (nullable = true)\n",
      " |-- trip_duration_seconds: long (nullable = true)\n",
      " |-- trip_duration_minutes: double (nullable = true)\n",
      " |-- Max_Temperature_F: integer (nullable = true)\n",
      " |-- Mean_Temperature_F: double (nullable = true)\n",
      " |-- Min_TemperatureF: integer (nullable = true)\n",
      " |-- Max_Dew_Point_F: integer (nullable = true)\n",
      " |-- MeanDew_Point_F: integer (nullable = true)\n",
      " |-- Min_Dewpoint_F: integer (nullable = true)\n",
      " |-- Max_Humidity: integer (nullable = true)\n",
      " |-- Mean_Humidity: integer (nullable = true)\n",
      " |-- Min_Humidity: integer (nullable = true)\n",
      " |-- Max_Sea_Level_Pressure_In: double (nullable = true)\n",
      " |-- Mean_Sea_Level_Pressure_In: double (nullable = true)\n",
      " |-- Min_Sea_Level_Pressure_In: double (nullable = true)\n",
      " |-- Max_Visibility_Miles: integer (nullable = true)\n",
      " |-- Mean_Visibility_Miles: integer (nullable = true)\n",
      " |-- Min_Visibility_Miles: integer (nullable = true)\n",
      " |-- Max_Wind_Speed_MPH: integer (nullable = true)\n",
      " |-- Mean_Wind_Speed_MPH: integer (nullable = true)\n",
      " |-- Max_Gust_Speed_MPH: integer (nullable = true)\n",
      " |-- Precipitation_In: double (nullable = true)\n",
      " |-- Events: string (nullable = true)\n",
      " |-- temporada: string (nullable = true)\n",
      " |-- quantil_trip_duration_minutes: double (nullable = true)\n",
      " |-- EventsIndex: double (nullable = false)\n",
      " |-- genderIndex: double (nullable = false)\n",
      " |-- IsGoodWeather: integer (nullable = false)\n",
      " |-- fechaSTR: string (nullable = true)\n",
      "\n",
      "+----------+--------+\n",
      "|      Date|fechaSTR|\n",
      "+----------+--------+\n",
      "|2014-10-29|20141029|\n",
      "|2015-05-11|20150511|\n",
      "|2015-08-05|20150805|\n",
      "|2016-06-17|20160617|\n",
      "|2014-10-26|20141026|\n",
      "+----------+--------+\n",
      "only showing top 5 rows\n",
      "\n"
     ]
    }
   ],
   "source": [
    "from pyspark.sql.types import StringType\n",
    "df_try_trips_weather = df_trips_weather_v2\n",
    "\n",
    "df_trips_weather_v2 = df_trips_weather_v2.drop(\"StrDateEfficient\")\n",
    "\n",
    "df_trips_weather_v2 = df_trips_weather_v2.withColumn(\"fechaSTR\",df_trips_weather_v2[\"Date\"].cast(StringType()))\n",
    "df_trips_weather_v2 = df_trips_weather_v2.withColumn(\"fechaSTR\", regexp_replace(\"fechaSTR\", '-', ''))\n",
    "\n",
    "df_trips_weather_v2.printSchema()\n",
    "df_trips_weather_v2.select(\"Date\",\"fechaSTR\").show(5)"
   ]
  },
  {
   "cell_type": "code",
   "execution_count": 131,
   "metadata": {},
   "outputs": [],
   "source": [
    "df_trips_weather_v2.write.mode(\"overwrite\").parquet(cos.url('trips_weather_v2', 'tallerdadatasciencecamiloferreira-donotdelete-pr-fz0ndvhao4eorr'))"
   ]
  },
  {
   "cell_type": "markdown",
   "metadata": {},
   "source": [
    "# Ejercicio 2 - Modelado"
   ]
  },
  {
   "cell_type": "code",
   "execution_count": 183,
   "metadata": {},
   "outputs": [
    {
     "name": "stdout",
     "output_type": "stream",
     "text": [
      "root\n",
      " |-- Date: date (nullable = true)\n",
      " |-- trip_id: integer (nullable = true)\n",
      " |-- starttime: timestamp (nullable = true)\n",
      " |-- stoptime: timestamp (nullable = true)\n",
      " |-- bikeid: string (nullable = true)\n",
      " |-- from_station_name: string (nullable = true)\n",
      " |-- to_station_name: string (nullable = true)\n",
      " |-- from_station_id: string (nullable = true)\n",
      " |-- to_station_id: string (nullable = true)\n",
      " |-- usertype: string (nullable = true)\n",
      " |-- gender: string (nullable = false)\n",
      " |-- birthyear: integer (nullable = true)\n",
      " |-- age: integer (nullable = true)\n",
      " |-- quarter_date: integer (nullable = true)\n",
      " |-- age_range: string (nullable = true)\n",
      " |-- trip_duration_seconds: long (nullable = true)\n",
      " |-- trip_duration_minutes: double (nullable = true)\n",
      " |-- Max_Temperature_F: integer (nullable = true)\n",
      " |-- Mean_Temperature_F: double (nullable = true)\n",
      " |-- Min_TemperatureF: integer (nullable = true)\n",
      " |-- Max_Dew_Point_F: integer (nullable = true)\n",
      " |-- MeanDew_Point_F: integer (nullable = true)\n",
      " |-- Min_Dewpoint_F: integer (nullable = true)\n",
      " |-- Max_Humidity: integer (nullable = true)\n",
      " |-- Mean_Humidity: integer (nullable = true)\n",
      " |-- Min_Humidity: integer (nullable = true)\n",
      " |-- Max_Sea_Level_Pressure_In: double (nullable = true)\n",
      " |-- Mean_Sea_Level_Pressure_In: double (nullable = true)\n",
      " |-- Min_Sea_Level_Pressure_In: double (nullable = true)\n",
      " |-- Max_Visibility_Miles: integer (nullable = true)\n",
      " |-- Mean_Visibility_Miles: integer (nullable = true)\n",
      " |-- Min_Visibility_Miles: integer (nullable = true)\n",
      " |-- Max_Wind_Speed_MPH: integer (nullable = true)\n",
      " |-- Mean_Wind_Speed_MPH: integer (nullable = true)\n",
      " |-- Max_Gust_Speed_MPH: integer (nullable = true)\n",
      " |-- Precipitation_In: double (nullable = true)\n",
      " |-- Events: string (nullable = true)\n",
      " |-- temporada: string (nullable = true)\n",
      " |-- quantil_trip_duration_minutes: double (nullable = true)\n",
      " |-- EventsIndex: double (nullable = false)\n",
      " |-- genderIndex: double (nullable = false)\n",
      " |-- IsGoodWeather: integer (nullable = false)\n",
      " |-- fechaSTR: string (nullable = true)\n",
      "\n"
     ]
    }
   ],
   "source": [
    "df_try_trips_weather = df_trips_weather_v2\n",
    "df_try_trips_weather.printSchema()"
   ]
  },
  {
   "cell_type": "code",
   "execution_count": 179,
   "metadata": {},
   "outputs": [],
   "source": [
    "#Importacion pandas\n",
    "import pandas as pd\n",
    "import numpy as np\n",
    "import seaborn as sns\n",
    "import matplotlib.pyplot as plt\n",
    "from seaborn import distplot\n",
    "from seaborn import boxplot\n",
    "from sklearn.neighbors import KNeighborsClassifier\n",
    "from sklearn.metrics import accuracy_score,recall_score,precision_score,confusion_matrix,f1_score, classification_report \n",
    "from sklearn.tree import DecisionTreeClassifier\n",
    "from sklearn.linear_model import LinearRegression\n",
    "from sklearn.cluster import KMeans\n",
    "from sklearn.metrics import silhouette_score\n",
    "from sklearn.metrics import pairwise_distances_argmin_min\n",
    "from pandas.plotting import scatter_matrix\n",
    "from scipy import stats\n",
    "from sklearn.ensemble import RandomForestClassifier\n",
    "from sklearn.model_selection import cross_val_score\n",
    "\n",
    "\n",
    "import warnings\n",
    "warnings.filterwarnings(\"ignore\")\n",
    "\n",
    "%matplotlib nbagg\n",
    "%matplotlib inline\n",
    "plt.rcParams['figure.figsize'] = (16, 9)\n",
    "plt.style.use('ggplot')"
   ]
  },
  {
   "cell_type": "code",
   "execution_count": 194,
   "metadata": {},
   "outputs": [
    {
     "name": "stdout",
     "output_type": "stream",
     "text": [
      "root\n",
      " |-- Date: date (nullable = true)\n",
      " |-- from_station_id: string (nullable = true)\n",
      " |-- to_station_id: string (nullable = true)\n",
      " |-- age: integer (nullable = true)\n",
      " |-- quarter_date: integer (nullable = true)\n",
      " |-- age_range: string (nullable = true)\n",
      " |-- trip_duration_seconds: long (nullable = true)\n",
      " |-- trip_duration_minutes: double (nullable = true)\n",
      " |-- Mean_Visibility_Miles: integer (nullable = true)\n",
      " |-- Mean_Wind_Speed_MPH: integer (nullable = true)\n",
      " |-- temporada: string (nullable = true)\n",
      " |-- EventsIndex: double (nullable = false)\n",
      " |-- genderIndex: double (nullable = false)\n",
      "\n"
     ]
    }
   ],
   "source": [
    "#Generacion de un sub dataframe eliminando atributos que entendemos no usaremos para el punto 1 de la parte 2\n",
    "df_try1_pyspark = df_try_trips_weather\n",
    "\n",
    "df_try1_pyspark = df_try1_pyspark.drop(\"fechaSTR\",\"IsGoodWeather\",\"quantil_trip_duration_minutes\",\"Events\",\"Precipitation_In\",\"Max_Gust_Speed_MPH\",\"Max_Wind_Speed_MPH\",\"Min_Visibility_Miles\",\"Max_Visibility_Miles\",\"Min_Sea_Level_Pressure_In\",\"Mean_Sea_Level_Pressure_In\",\"Max_Sea_Level_Pressure_In\",\"Min_Humidity\",\"Mean_Humidity\",\"Max_Humidity\",\"Min_Dewpoint_F\",\"MeanDew_Point_F\",\"Max_Dew_Point_F\", \"trip_id\",\"starttime\",\"stoptime\",\"bikeid\",\"from_station_name\",\"to_station_name\",\"usertype\",\"gender\",\"birthyear\",\"Max_Temperature_F\",\"Mean_Temperature_F\",\"Min_TemperatureF\")\n",
    "\n",
    "df_try1_pyspark.printSchema()"
   ]
  },
  {
   "cell_type": "code",
   "execution_count": 200,
   "metadata": {},
   "outputs": [
    {
     "name": "stdout",
     "output_type": "stream",
     "text": [
      "root\n",
      " |-- trip_duration_minutes: double (nullable = true)\n",
      " |-- Mean_Visibility_Miles: integer (nullable = true)\n",
      " |-- Mean_Wind_Speed_MPH: integer (nullable = true)\n",
      "\n"
     ]
    },
    {
     "data": {
      "text/plain": [
       "<matplotlib.axes._subplots.AxesSubplot at 0x7f12cc1f7fd0>"
      ]
     },
     "execution_count": 200,
     "metadata": {},
     "output_type": "execute_result"
    },
    {
     "data": {
      "image/png": "[encoded data removed]",
      "text/plain": [
       "<Figure size 1152x864 with 2 Axes>"
      ]
     },
     "metadata": {
      "needs_background": "light"
     },
     "output_type": "display_data"
    }
   ],
   "source": [
    "#Se crea un nuevo sub data frame dejando duracion en minutos de viajes, visibilidad media, velocidad media de viento\n",
    "#Esto para entender si la duracion de los viajes pueden verse afectadas por estos factores del clima\n",
    "df_try2_pyspark = df_try1_pyspark\n",
    "df_try2_pyspark = df_try2_pyspark.drop(\"Date\",\"from_station_id\",\"to_station_id\",\"quarter_date\",\"age_range\",\"trip_duration_seconds\",\"temporada\",\"EventsIndex\",\"genderIndex\",\"age\")\n",
    "df_try2_pyspark.printSchema()\n",
    "df_pandas2 = df_try2_pyspark.toPandas()\n",
    "\n",
    "plt.figure(figsize = (16,12))\n",
    "plt.title('Matríz de Correlación entre Variables')\n",
    "correlation_matrix = df_pandas2.corr().round(1)\n",
    "sns.heatmap(data=correlation_matrix, annot=True, cmap=\"Greens\")"
   ]
  },
  {
   "cell_type": "code",
   "execution_count": 202,
   "metadata": {},
   "outputs": [
    {
     "name": "stdout",
     "output_type": "stream",
     "text": [
      "root\n",
      " |-- Date: date (nullable = true)\n",
      " |-- from_station_id: string (nullable = true)\n",
      " |-- to_station_id: string (nullable = true)\n",
      " |-- age: integer (nullable = true)\n",
      " |-- quarter_date: integer (nullable = true)\n",
      " |-- age_range: string (nullable = true)\n",
      " |-- trip_duration_seconds: long (nullable = true)\n",
      " |-- trip_duration_minutes: double (nullable = true)\n",
      " |-- Mean_Visibility_Miles: integer (nullable = true)\n",
      " |-- Mean_Wind_Speed_MPH: integer (nullable = true)\n",
      " |-- temporada: string (nullable = true)\n",
      " |-- EventsIndex: double (nullable = false)\n",
      " |-- genderIndex: double (nullable = false)\n",
      "\n"
     ]
    }
   ],
   "source": [
    "df_try3_pyspark = df_try1_pyspark\n",
    "df_pandas3 = df_try3_pyspark.toPandas()\n",
    "df_try3_pyspark.printSchema()"
   ]
  },
  {
   "cell_type": "code",
   "execution_count": 217,
   "metadata": {},
   "outputs": [
    {
     "data": {
      "text/plain": [
       "(0.0, 7000.0)"
      ]
     },
     "execution_count": 217,
     "metadata": {},
     "output_type": "execute_result"
    },
    {
     "data": {
      "image/png": "[encoded data removed]",
      "text/plain": [
       "<Figure size 1080x360 with 1 Axes>"
      ]
     },
     "metadata": {
      "needs_background": "light"
     },
     "output_type": "display_data"
    },
    {
     "data": {
      "image/png": "[encoded data removed]",
      "text/plain": [
       "<Figure size 1080x360 with 1 Axes>"
      ]
     },
     "metadata": {
      "needs_background": "light"
     },
     "output_type": "display_data"
    }
   ],
   "source": [
    "#Suma de trip minutes por edad, max 5\n",
    "data_maxtop5_MinAge = df_pandas3.groupby('age')['trip_duration_minutes'].sum()\n",
    "data_maxtop5_MinAge = data_maxtop5_MinAge.reset_index().sort_values(by='trip_duration_minutes', ascending=False).head(5)\n",
    "\n",
    "#Suma de trip minutes por edad, min 5\n",
    "data_mintop5_MinAge = df_pandas3.groupby('age')['trip_duration_minutes'].sum()\n",
    "data_mintop5_MinAge = data_mintop5_MinAge.reset_index().sort_values(by='trip_duration_minutes', ascending=True).head(5)\n",
    "\n",
    "\n",
    "plt.figure(figsize=(15, 5))\n",
    "plt.title('Top 5 Edades con más minutos de viaje')\n",
    "sns.barplot(x=\"age\", y=\"trip_duration_minutes\", data=data_maxtop5_MinAge, color=\"#2ecc71\")\n",
    "\n",
    "plt.figure(figsize=(15, 5))\n",
    "plt.title('Top 5 Edades con menos minutos de viaje')\n",
    "g = sns.barplot(x=\"age\", y=\"trip_duration_minutes\", data=data_mintop5_MinAge, color=\"#e74c3c\")\n",
    "g.set_ylim(0, 7000)\n",
    "\n",
    "#De esta manera conocemos que usuarios son lo que hacen viajes más largos, ende viajes más caros en general\n",
    "#Por otra parte podemos conocer usuarios a los que podríamos buscar manera de estimular, como aplicar descuentos"
   ]
  },
  {
   "cell_type": "code",
   "execution_count": null,
   "metadata": {},
   "outputs": [],
   "source": []
  }
 ],
 "metadata": {
  "kernelspec": {
   "display_name": "Python 3.7 with Spark",
   "language": "python3",
   "name": "python37"
  },
  "language_info": {
   "codemirror_mode": {
    "name": "ipython",
    "version": 3
   },
   "file_extension": ".py",
   "mimetype": "text/x-python",
   "name": "python",
   "nbconvert_exporter": "python",
   "pygments_lexer": "ipython3",
   "version": "3.7.10"
  }
 },
 "nbformat": 4,
 "nbformat_minor": 1
}
